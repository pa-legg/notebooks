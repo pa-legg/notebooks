{
 "cells": [
  {
   "cell_type": "markdown",
   "metadata": {
    "colab_type": "text",
    "id": "RHwgLwN4nXPi"
   },
   "source": [
    "# Fast Gradient Sign Method (FGSM) using Cleverhans\n",
    "\n",
    "#### Easily implement an FGSM attack on a model using Cleverhans and Tensorflow 2.0\n",
    ">\n",
    "Checkout Cleverhans on Github [here](https://www.github.com/tensorflow/cleverhans).\n"
   ]
  },
  {
   "cell_type": "markdown",
   "metadata": {
    "colab_type": "text",
    "id": "Vs9wD38he0cM"
   },
   "source": [
    "## Import dependent libraries\n",
    "Tensorflow 2.0 required \n"
   ]
  },
  {
   "cell_type": "code",
   "execution_count": null,
   "metadata": {
    "colab": {
     "base_uri": "https://localhost:8080/",
     "height": 1000
    },
    "colab_type": "code",
    "id": "eBsLelavnv0u",
    "outputId": "413c5f8c-2ff8-44fa-8214-3664db1af30b"
   },
   "outputs": [
    {
     "name": "stdout",
     "output_type": "stream",
     "text": [
      "Requirement already satisfied: cleverhans from git+https://github.com/tensorflow/cleverhans.git#egg=cleverhans in /Users/pa-legg/opt/anaconda3/lib/python3.7/site-packages (3.0.1)\r\n",
      "Requirement already satisfied: mnist~=0.2 in /Users/pa-legg/opt/anaconda3/lib/python3.7/site-packages (from cleverhans) (0.2.2)\r\n",
      "Requirement already satisfied: matplotlib in /Users/pa-legg/opt/anaconda3/lib/python3.7/site-packages (from cleverhans) (3.1.3)\r\n",
      "Requirement already satisfied: scipy in /Users/pa-legg/opt/anaconda3/lib/python3.7/site-packages (from cleverhans) (1.4.1)\r\n",
      "Requirement already satisfied: joblib in /Users/pa-legg/opt/anaconda3/lib/python3.7/site-packages (from cleverhans) (0.14.1)\r\n",
      "Requirement already satisfied: nose in /Users/pa-legg/opt/anaconda3/lib/python3.7/site-packages (from cleverhans) (1.3.7)\r\n",
      "Requirement already satisfied: tensorflow-probability in /Users/pa-legg/opt/anaconda3/lib/python3.7/site-packages (from cleverhans) (0.10.1)\r\n",
      "Requirement already satisfied: numpy in /Users/pa-legg/opt/anaconda3/lib/python3.7/site-packages (from cleverhans) (1.18.1)\r\n",
      "Requirement already satisfied: pycodestyle in /Users/pa-legg/opt/anaconda3/lib/python3.7/site-packages (from cleverhans) (2.5.0)\r\n",
      "Requirement already satisfied: cycler>=0.10 in /Users/pa-legg/opt/anaconda3/lib/python3.7/site-packages (from matplotlib->cleverhans) (0.10.0)\r\n",
      "Requirement already satisfied: kiwisolver>=1.0.1 in /Users/pa-legg/opt/anaconda3/lib/python3.7/site-packages (from matplotlib->cleverhans) (1.1.0)\r\n",
      "Requirement already satisfied: python-dateutil>=2.1 in /Users/pa-legg/opt/anaconda3/lib/python3.7/site-packages (from matplotlib->cleverhans) (2.8.1)\r\n",
      "Requirement already satisfied: pyparsing!=2.0.4,!=2.1.2,!=2.1.6,>=2.0.1 in /Users/pa-legg/opt/anaconda3/lib/python3.7/site-packages (from matplotlib->cleverhans) (2.4.6)\r\n",
      "Requirement already satisfied: six>=1.10.0 in /Users/pa-legg/opt/anaconda3/lib/python3.7/site-packages (from tensorflow-probability->cleverhans) (1.14.0)\r\n",
      "Requirement already satisfied: decorator in /Users/pa-legg/opt/anaconda3/lib/python3.7/site-packages (from tensorflow-probability->cleverhans) (4.4.1)\r\n",
      "Requirement already satisfied: gast>=0.3.2 in /Users/pa-legg/opt/anaconda3/lib/python3.7/site-packages (from tensorflow-probability->cleverhans) (0.3.3)\r\n",
      "Requirement already satisfied: cloudpickle==1.3 in /Users/pa-legg/opt/anaconda3/lib/python3.7/site-packages (from tensorflow-probability->cleverhans) (1.3.0)\r\n",
      "Requirement already satisfied: setuptools in /Users/pa-legg/opt/anaconda3/lib/python3.7/site-packages (from kiwisolver>=1.0.1->matplotlib->cleverhans) (46.0.0.post20200309)\r\n"
     ]
    },
    {
     "name": "stderr",
     "output_type": "stream",
     "text": [
      "/Users/pa-legg/opt/anaconda3/lib/python3.7/site-packages/tensorflow/python/framework/dtypes.py:516: FutureWarning: Passing (type, 1) or '1type' as a synonym of type is deprecated; in a future version of numpy, it will be understood as (type, (1,)) / '(1,)type'.\n",
      "  _np_qint8 = np.dtype([(\"qint8\", np.int8, 1)])\n",
      "/Users/pa-legg/opt/anaconda3/lib/python3.7/site-packages/tensorflow/python/framework/dtypes.py:517: FutureWarning: Passing (type, 1) or '1type' as a synonym of type is deprecated; in a future version of numpy, it will be understood as (type, (1,)) / '(1,)type'.\n",
      "  _np_quint8 = np.dtype([(\"quint8\", np.uint8, 1)])\n",
      "/Users/pa-legg/opt/anaconda3/lib/python3.7/site-packages/tensorflow/python/framework/dtypes.py:518: FutureWarning: Passing (type, 1) or '1type' as a synonym of type is deprecated; in a future version of numpy, it will be understood as (type, (1,)) / '(1,)type'.\n",
      "  _np_qint16 = np.dtype([(\"qint16\", np.int16, 1)])\n",
      "/Users/pa-legg/opt/anaconda3/lib/python3.7/site-packages/tensorflow/python/framework/dtypes.py:519: FutureWarning: Passing (type, 1) or '1type' as a synonym of type is deprecated; in a future version of numpy, it will be understood as (type, (1,)) / '(1,)type'.\n",
      "  _np_quint16 = np.dtype([(\"quint16\", np.uint16, 1)])\n",
      "/Users/pa-legg/opt/anaconda3/lib/python3.7/site-packages/tensorflow/python/framework/dtypes.py:520: FutureWarning: Passing (type, 1) or '1type' as a synonym of type is deprecated; in a future version of numpy, it will be understood as (type, (1,)) / '(1,)type'.\n",
      "  _np_qint32 = np.dtype([(\"qint32\", np.int32, 1)])\n",
      "/Users/pa-legg/opt/anaconda3/lib/python3.7/site-packages/tensorflow/python/framework/dtypes.py:525: FutureWarning: Passing (type, 1) or '1type' as a synonym of type is deprecated; in a future version of numpy, it will be understood as (type, (1,)) / '(1,)type'.\n",
      "  np_resource = np.dtype([(\"resource\", np.ubyte, 1)])\n"
     ]
    }
   ],
   "source": [
    "!pip install -q tensorflow==2.0.0b1\n",
    "# Install bleeding edge version of cleverhans\n",
    "!pip install git+https://github.com/tensorflow/cleverhans.git#egg=cleverhans\n",
    "\n",
    "import cleverhans\n",
    "import tensorflow as tf\n",
    "import numpy as np\n",
    "import matplotlib.pyplot as plt\n",
    "\n",
    "print(\"\\nTensorflow Version: \" + tf.__version__)\n",
    "print(\"Cleverhans Version: \" + cleverhans.__version__)\n",
    "print(\"GPU Available: \", tf.test.is_gpu_available())"
   ]
  },
  {
   "cell_type": "markdown",
   "metadata": {
    "colab_type": "text",
    "id": "b4kgPQqp-hwR"
   },
   "source": [
    "## Training a simple model on the MNIST dataset\n"
   ]
  },
  {
   "cell_type": "markdown",
   "metadata": {
    "colab_type": "text",
    "id": "_z99mq1bKkjz"
   },
   "source": [
    "> If you would like to experiment with other datasets feel free to replace this code by whatever you need to do so. Just remember that to make the rest of the notebook work without any other major changes keep the variables train_images, train_labels, test_images, test_labels and assign them to the corresponding new data. I recommend any of the datasets offered by keras as they use the same mechanics to import them.\n",
    "\n",
    ">Keep in mind that the MNIST dataset was used in this guide because of the little amount of time it takes to both train a good model and craft the attacks."
   ]
  },
  {
   "cell_type": "code",
   "execution_count": null,
   "metadata": {
    "colab": {
     "base_uri": "https://localhost:8080/",
     "height": 513
    },
    "colab_type": "code",
    "id": "uQVP1re__pbf",
    "outputId": "4d643dec-68d0-42c3-d16e-415ae2e0ad16"
   },
   "outputs": [
    {
     "name": "stdout",
     "output_type": "stream",
     "text": [
      "Downloading data from https://storage.googleapis.com/tensorflow/tf-keras-datasets/mnist.npz\n",
      "11493376/11490434 [==============================] - 0s 0us/step\n",
      "WARNING:tensorflow:From /usr/local/lib/python3.6/dist-packages/tensorflow/python/ops/math_grad.py:1250: add_dispatch_support.<locals>.wrapper (from tensorflow.python.ops.array_ops) is deprecated and will be removed in a future version.\n",
      "Instructions for updating:\n",
      "Use tf.where in 2.0, which has the same broadcast rule as np.where\n",
      "Train on 48000 samples, validate on 12000 samples\n",
      "Epoch 1/10\n",
      "48000/48000 [==============================] - 4s 75us/sample - loss: 0.4152 - accuracy: 0.8798 - val_loss: 0.2260 - val_accuracy: 0.9371\n",
      "Epoch 2/10\n",
      "48000/48000 [==============================] - 3s 70us/sample - loss: 0.1900 - accuracy: 0.9444 - val_loss: 0.1712 - val_accuracy: 0.9494\n",
      "Epoch 3/10\n",
      "48000/48000 [==============================] - 3s 69us/sample - loss: 0.1493 - accuracy: 0.9565 - val_loss: 0.1516 - val_accuracy: 0.9566\n",
      "Epoch 4/10\n",
      "48000/48000 [==============================] - 3s 71us/sample - loss: 0.1259 - accuracy: 0.9622 - val_loss: 0.1325 - val_accuracy: 0.9589\n",
      "Epoch 5/10\n",
      "48000/48000 [==============================] - 3s 70us/sample - loss: 0.1110 - accuracy: 0.9665 - val_loss: 0.1357 - val_accuracy: 0.9599\n",
      "Epoch 6/10\n",
      "48000/48000 [==============================] - 3s 70us/sample - loss: 0.0990 - accuracy: 0.9705 - val_loss: 0.1287 - val_accuracy: 0.9607\n",
      "Epoch 7/10\n",
      "48000/48000 [==============================] - 3s 71us/sample - loss: 0.0907 - accuracy: 0.9715 - val_loss: 0.1280 - val_accuracy: 0.9640\n",
      "Epoch 8/10\n",
      "48000/48000 [==============================] - 3s 69us/sample - loss: 0.0830 - accuracy: 0.9751 - val_loss: 0.1243 - val_accuracy: 0.9647\n",
      "Epoch 9/10\n",
      "48000/48000 [==============================] - 3s 71us/sample - loss: 0.0772 - accuracy: 0.9764 - val_loss: 0.1253 - val_accuracy: 0.9645\n",
      "Epoch 10/10\n",
      "48000/48000 [==============================] - 3s 72us/sample - loss: 0.0714 - accuracy: 0.9774 - val_loss: 0.1174 - val_accuracy: 0.9653\n",
      "10000/10000 [==============================] - 0s 31us/sample - loss: 0.1154 - accuracy: 0.9665\n",
      "Test accuracy: 0.9665\n"
     ]
    }
   ],
   "source": [
    "mnist = tf.keras.datasets.mnist\n",
    "(train_images, train_labels), (test_images, test_labels) = mnist.load_data()\n",
    "\n",
    "train_images = train_images / 255.0\n",
    "test_images = test_images / 255.0\n",
    "\n",
    "num_classes = 10\n",
    "\n",
    "model = tf.keras.Sequential([\n",
    "    tf.keras.layers.Flatten(input_shape=(28, 28)),\n",
    "    tf.keras.layers.Dense(32, activation=tf.nn.relu),\n",
    "    tf.keras.layers.Dense(16, activation=tf.nn.relu),\n",
    "    tf.keras.layers.Dense(10),\n",
    "    tf.keras.layers.Activation(tf.nn.softmax) # We seperate the activation layer to be able to access the logits of the previous layer later\n",
    "])\n",
    "\n",
    "model.compile(optimizer='adam',\n",
    "              loss= 'sparse_categorical_crossentropy',\n",
    "              metrics=['accuracy'])\n",
    "\n",
    "model.fit(train_images, train_labels, epochs=10, validation_split=0.2)\n",
    "test_loss, test_acc = model.evaluate(test_images, test_labels)\n",
    "\n",
    "print('Test accuracy:', test_acc)"
   ]
  },
  {
   "cell_type": "markdown",
   "metadata": {
    "colab_type": "text",
    "id": "QpC4KgTS_Fj8"
   },
   "source": [
    "## Implementing the FGSM attack using fast_gradient_method()\n"
   ]
  },
  {
   "cell_type": "markdown",
   "metadata": {
    "colab_type": "text",
    "id": "U68CRVKW5ULk"
   },
   "source": [
    "Cleverhans implements the fgsm attack with the following method:\n",
    "\n",
    "\n",
    "```\n",
    "fast_gradient_method(model_fn, x, eps, norm, clip_min=None, clip_max=None, y=None, targeted=False, sanity_checks=False)\n",
    "\n",
    "```\n",
    "\n",
    "> * **model_fn**: a callable that takes an input tensor and returns the model logits\n",
    "* **x**: input_tensor\n",
    "* **eps**: epsilon (dictates the \"strength\" of the distortion created)\n",
    "* **norm**: Order of the norm (mimics NumPy). Possible values: np.inf, 1 or 2.\n",
    "* **clip_min**: (optional, default=None) float. Minimum float value for adversarial example components.\n",
    "* **clip_max**: (optional, default=None) float. Maximum float value for adversarial example components\n",
    "* **y**: (optional, default=None) Tensor with true labels. If targeted is true, then provide the target label. Otherwise, only provide this parameter if you'd like to use true labels when crafting adversarial samples. Otherwise, model predictions are used as labels to avoid the \"label leaking\" effect (explained in this [paper](https://arxiv.org/abs/1611.01236)).\n",
    "* **targeted**: (optional, default=False) bool. Is the attack targeted or untargeted? Untargeted, the default, will try to make the label incorrect. Targeted will instead try to move in the direction of being more like y.\n",
    "* **param sanity_checks**: (optional, default=False) bool, if True, include  asserts (Turn them off to use less runtime / memory or for unit tests that intentionally pass strange input)\n",
    ">\n",
    "\n",
    "Find it in the library [here](https://github.com/tensorflow/cleverhans/blob/master/cleverhans/future/tf2/attacks/fast_gradient_method.py)"
   ]
  },
  {
   "cell_type": "code",
   "execution_count": null,
   "metadata": {
    "colab": {},
    "colab_type": "code",
    "id": "LgZhvgzbAuU8"
   },
   "outputs": [],
   "source": [
    "# Import the attack\n",
    "from cleverhans.future.tf2.attacks import fast_gradient_method\n",
    "\n",
    "#The attack requires the model to ouput the logits\n",
    "logits_model = tf.keras.Model(model.input,model.layers[-1].output)"
   ]
  },
  {
   "cell_type": "markdown",
   "metadata": {
    "colab_type": "text",
    "id": "q53TkEuD-gR9"
   },
   "source": [
    "### Choose a random image to attack from the test set\n",
    "\n"
   ]
  },
  {
   "cell_type": "code",
   "execution_count": null,
   "metadata": {
    "colab": {
     "base_uri": "https://localhost:8080/",
     "height": 281
    },
    "colab_type": "code",
    "id": "wA7_JKrm1wsm",
    "outputId": "be6c2c26-e95a-48ce-ce6c-cc71d504da83"
   },
   "outputs": [
    {
     "data": {
      "image/png": "[encoded data removed]",
      "text/plain": [
       "<Figure size 432x288 with 1 Axes>"
      ]
     },
     "metadata": {
      "needs_background": "light",
      "tags": []
     },
     "output_type": "display_data"
    }
   ],
   "source": [
    "random_index = np.random.randint(test_images.shape[0])\n",
    "\n",
    "original_image = test_images[random_index]\n",
    "original_image = tf.convert_to_tensor(original_image.reshape((1,28,28))) #The .reshape just gives it the proper form to input into the model, a batch of 1 a.k.a a tensor\n",
    "\n",
    "original_label = test_labels[random_index]\n",
    "original_label = np.reshape(original_label, (1,)).astype('int64') # Give label proper shape and type for cleverhans\n",
    "\n",
    "#Show the image\n",
    "plt.figure()\n",
    "plt.grid(False)\n",
    "\n",
    "plt.imshow(np.reshape(original_image, (28,28)))\n",
    "plt.title(\"Label: {}\".format(original_label[0]))\n",
    "\n",
    "plt.show()"
   ]
  },
  {
   "cell_type": "markdown",
   "metadata": {
    "colab_type": "text",
    "id": "rz8QBZJ2-DO5"
   },
   "source": [
    "### Non-targeted FGSM attack\n"
   ]
  },
  {
   "cell_type": "code",
   "execution_count": null,
   "metadata": {
    "colab": {
     "base_uri": "https://localhost:8080/",
     "height": 349
    },
    "colab_type": "code",
    "id": "6LSemuYWrZWz",
    "outputId": "88278283-255e-4ff4-af7f-5d33ec8699c6"
   },
   "outputs": [
    {
     "name": "stdout",
     "output_type": "stream",
     "text": [
      "WARNING:tensorflow:Entity <function compute_gradient at 0x7ff37da19840> could not be transformed and will be executed as-is. Please report this to the AutoGraph team. When filing the bug, set the verbosity to 10 (on Linux, `export AUTOGRAPH_VERBOSITY=10`) and attach the full output. Cause: converting <function compute_gradient at 0x7ff37da19840>: AssertionError: Bad argument number for Name: 3, expecting 4\n",
      "WARNING: Entity <function compute_gradient at 0x7ff37da19840> could not be transformed and will be executed as-is. Please report this to the AutoGraph team. When filing the bug, set the verbosity to 10 (on Linux, `export AUTOGRAPH_VERBOSITY=10`) and attach the full output. Cause: converting <function compute_gradient at 0x7ff37da19840>: AssertionError: Bad argument number for Name: 3, expecting 4\n"
     ]
    },
    {
     "data": {
      "image/png": "[encoded data removed]",
      "text/plain": [
       "<Figure size 432x288 with 1 Axes>"
      ]
     },
     "metadata": {
      "needs_background": "light",
      "tags": []
     },
     "output_type": "display_data"
    }
   ],
   "source": [
    "epsilon = 0.1\n",
    "\n",
    "adv_example_untargeted_label = fast_gradient_method(logits_model, original_image, epsilon, np.inf, targeted=False)\n",
    "\n",
    "adv_example_untargeted_label_pred = model.predict(adv_example_untargeted_label)\n",
    "\n",
    "#Show the image\n",
    "plt.figure()\n",
    "plt.grid(False)\n",
    "\n",
    "plt.imshow(np.reshape(adv_example_untargeted_label, (28,28)))\n",
    "plt.title(\"Model Prediction: {}\".format(np.argmax(adv_example_untargeted_label_pred)))\n",
    "plt.xlabel(\"Original Label: {}\".format(original_label[0]))\n",
    "\n",
    "plt.show()"
   ]
  },
  {
   "cell_type": "markdown",
   "metadata": {
    "colab_type": "text",
    "id": "-l-eIvZZvSC6"
   },
   "source": [
    "### Targeted FGSM Attack"
   ]
  },
  {
   "cell_type": "code",
   "execution_count": null,
   "metadata": {
    "colab": {
     "base_uri": "https://localhost:8080/",
     "height": 295
    },
    "colab_type": "code",
    "id": "O4teWeVYvUGQ",
    "outputId": "cabc0721-5699-4a93-ea02-2dedf90820ea"
   },
   "outputs": [
    {
     "data": {
      "image/png": "[encoded data removed]",
      "text/plain": [
       "<Figure size 432x288 with 1 Axes>"
      ]
     },
     "metadata": {
      "needs_background": "light",
      "tags": []
     },
     "output_type": "display_data"
    }
   ],
   "source": [
    "epsilon = 0.1\n",
    "# The target value may have to be changed to work, some images are more easily missclassified as different labels\n",
    "target = 4\n",
    "\n",
    "target_label = np.reshape(target, (1,)).astype('int64') # Give target label proper size and dtype to feed through\n",
    "\n",
    "adv_example_targeted_label = fast_gradient_method(logits_model, original_image, epsilon, np.inf, y=target_label, targeted=True)\n",
    "\n",
    "adv_example_targeted_label_pred = model.predict(adv_example_targeted_label)\n",
    "\n",
    "#Show the image\n",
    "plt.figure()\n",
    "plt.grid(False)\n",
    "\n",
    "plt.imshow(np.reshape(adv_example_targeted_label, (28,28)))\n",
    "plt.title(\"Model Prediction: {}\".format(np.argmax(adv_example_targeted_label_pred)))\n",
    "plt.xlabel(\"Original Label: {}\".format(original_label[0]))\n",
    "\n",
    "plt.show()"
   ]
  },
  {
   "cell_type": "markdown",
   "metadata": {
    "colab_type": "text",
    "id": "DlQ833TumOUC"
   },
   "source": [
    "### Other Docs\n",
    ">\n",
    "Find more tutorials for Cleverhans [here](https://github.com/tensorflow/cleverhans/tree/master/tutorials/future/tf2)."
   ]
  }
 ],
 "metadata": {
  "accelerator": "GPU",
  "colab": {
   "collapsed_sections": [],
   "name": "Copy of Cleverhans FGSM attack.ipynb",
   "provenance": []
  },
  "kernelspec": {
   "display_name": "Python 3",
   "language": "python",
   "name": "python3"
  },
  "language_info": {
   "codemirror_mode": {
    "name": "ipython",
    "version": 3
   },
   "file_extension": ".py",
   "mimetype": "text/x-python",
   "name": "python",
   "nbconvert_exporter": "python",
   "pygments_lexer": "ipython3",
   "version": "3.7.6"
  }
 },
 "nbformat": 4,
 "nbformat_minor": 1
}
