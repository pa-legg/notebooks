{
  "nbformat": 4,
  "nbformat_minor": 0,
  "metadata": {
    "colab": {
      "provenance": [],
      "toc_visible": true,
      "authorship_tag": "ABX9TyO5PTj3vU9tPO8ByuzBoKFw",
      "include_colab_link": true
    },
    "kernelspec": {
      "name": "python3",
      "display_name": "Python 3"
    },
    "widgets": {
      "application/vnd.jupyter.widget-state+json": {
        "dfdf15d8b34e4214817f95ccfc3d748c": {
          "model_module": "@jupyter-widgets/controls",
          "model_name": "VBoxModel",
          "state": {
            "_view_name": "VBoxView",
            "_dom_classes": [
              "widget-interact"
            ],
            "_model_name": "VBoxModel",
            "_view_module": "@jupyter-widgets/controls",
            "_model_module_version": "1.5.0",
            "_view_count": null,
            "_view_module_version": "1.5.0",
            "box_style": "",
            "layout": "IPY_MODEL_fe44efbeced4463781dffa53a43ab078",
            "_model_module": "@jupyter-widgets/controls",
            "children": [
              "IPY_MODEL_c35e7cbe835b4e8ea371e37036289ad3",
              "IPY_MODEL_ec457a22872647389896bac77440c57a"
            ]
          },
          "model_module_version": "1.5.0"
        },
        "fe44efbeced4463781dffa53a43ab078": {
          "model_module": "@jupyter-widgets/base",
          "model_name": "LayoutModel",
          "state": {
            "_view_name": "LayoutView",
            "grid_template_rows": null,
            "right": null,
            "justify_content": null,
            "_view_module": "@jupyter-widgets/base",
            "overflow": null,
            "_model_module_version": "1.2.0",
            "_view_count": null,
            "flex_flow": null,
            "width": null,
            "min_width": null,
            "border": null,
            "align_items": null,
            "bottom": null,
            "_model_module": "@jupyter-widgets/base",
            "top": null,
            "grid_column": null,
            "overflow_y": null,
            "overflow_x": null,
            "grid_auto_flow": null,
            "grid_area": null,
            "grid_template_columns": null,
            "flex": null,
            "_model_name": "LayoutModel",
            "justify_items": null,
            "grid_row": null,
            "max_height": null,
            "align_content": null,
            "visibility": null,
            "align_self": null,
            "height": null,
            "min_height": null,
            "padding": null,
            "grid_auto_rows": null,
            "grid_gap": null,
            "max_width": null,
            "order": null,
            "_view_module_version": "1.2.0",
            "grid_template_areas": null,
            "object_position": null,
            "object_fit": null,
            "grid_auto_columns": null,
            "margin": null,
            "display": null,
            "left": null
          },
          "model_module_version": "1.2.0"
        },
        "c35e7cbe835b4e8ea371e37036289ad3": {
          "model_module": "@jupyter-widgets/controls",
          "model_name": "FloatSliderModel",
          "state": {
            "_view_name": "FloatSliderView",
            "style": "IPY_MODEL_19956037d65345f59f782b68b47ab0f9",
            "_dom_classes": [],
            "description": "freq",
            "step": 0.5,
            "_model_name": "FloatSliderModel",
            "orientation": "horizontal",
            "max": 5,
            "_view_module": "@jupyter-widgets/controls",
            "_model_module_version": "1.5.0",
            "value": 4.5,
            "_view_count": null,
            "disabled": false,
            "_view_module_version": "1.5.0",
            "min": 1,
            "continuous_update": true,
            "readout_format": ".2f",
            "description_tooltip": null,
            "readout": true,
            "_model_module": "@jupyter-widgets/controls",
            "layout": "IPY_MODEL_31fe07c1709e41bfa505b772a939403e"
          },
          "model_module_version": "1.5.0"
        },
        "ec457a22872647389896bac77440c57a": {
          "model_module": "@jupyter-widgets/output",
          "model_name": "OutputModel",
          "state": {
            "_view_name": "OutputView",
            "msg_id": "",
            "_dom_classes": [],
            "_model_name": "OutputModel",
            "outputs": [
              {
                "output_type": "display_data",
                "metadata": {
                  "tags": [],
                  "needs_background": "light"
                },
                "image/png": "iVBORw0KGgoAAAANSUhEUgAAAYIAAAD4CAYAAADhNOGaAAAABHNCSVQICAgIfAhkiAAAAAlwSFlzAAALEgAACxIB0t1+/AAAADh0RVh0U29mdHdhcmUAbWF0cGxvdGxpYiB2ZXJzaW9uMy4yLjEsIGh0dHA6Ly9tYXRwbG90bGliLm9yZy+j8jraAAAgAElEQVR4nO29eXhkZ3ng+3trU5W20r5LvbvbbWy3TduGmAlgNjsxNpkwic0k1ybk8ZMbmOSGSS5mMoE7ZJiQZG5gcifJxAMGM0kwhIRgEjPGYLPaBreN1273rm7tu0pblVTLd/849ZXKsqSWVGetOr/n0aOqU6eqXh2dc97v3UUphY+Pj49P5RJwWgAfHx8fH2fxFYGPj49PheMrAh8fH58Kx1cEPj4+PhWOrwh8fHx8KpyQ0wLshJaWFrV7926nxfDx8fHxFM8888ykUqp17XZPKoLdu3dz7Ngxp8Xw8fHx8RQicmG97b5ryMfHx6fC8RWBj4+PT4XjKwIfHx+fCsdXBD4+Pj4VjimKQETuF5FxEXlpg9dFRP5cRM6IyAsicm3Ra3eJyOn8z11myOPj4+Pjs3XMsgi+ANy8yeu3AAfyP/cAfwUgIk3Ax4EbgOuBj4tIo0ky+fj4+PhsAVMUgVLq+8D0JrvcDnxRGTwFNIhIJ/Au4FGl1LRSagZ4lM0Vio+Pj4+PydgVI+gGBoqeD+a3bbT9NYjIPSJyTESOTUxMWCboVsjlFF9++iIT88uOyuHj4+N+vvH8MOcnF50WY1M8EyxWSt2nlDqqlDra2vqawjhb+eNHXuEj//AiDzzR76gcbmI0kfIVow9KKY4Pz5HL+XNOAGYWV/itB3/Kv/2fTzE+l3JanA2xSxEMAb1Fz3vy2zba7lq+9JOL/PX3zhEMCE+em3JaHMdZWM7wqW++ws/+yeN88O+edVocH4d59PgYP/fnP+AX/uoJfnpxxmlxHOfH56dQCsbml/nAA8dYWsk4LdK62NVi4iHgQyLyIEZgOKGUGhGRR4D/UhQgfifwUZtk2jY/OD3Bf/ynl3jzZa0c7Kjj/h+eZ3E5Q02VJzt1lEQup/in54b41DdfYXx+me6GGD+9OEMqnSUaDjotnm1879QEX3764rqvtdVF+YNbDxMMiM1SOcdT56aJhAIMzyb5hb98gl+8toeP3HKQtrqo06I5wpNnp4iFg3zmjiP8n3/zDL/94HP8j195vevOCbPSR78EPAkcFJFBEfmAiPyGiPxGfpeHgXPAGeB/Ar8JoJSaBv4QeDr/84n8Ntdxamye3/ybZznQVst/f9813Li/hUxOcexC5a16nh+Y5Rf/xxN8+CvP0xmP8rXf/Bk+9u7DpLOKl4cTTotnK/d9/yzfPTnB6bGFV/08P5DgC0/0c2ps3mkRbeXZizMc6Wng8d99C7/x5n089PwQN/3X7/HX3zvLSibntHi28+S5KY7ubuRdV3TwsVsP8+jxMf7LwyecFus1mLKUVUrdeYnXFfDBDV67H7jfDDmsYmJ+mfd//mmikSCfu/s66qJhju5qJBQQnjo3xZsvczZmYSd/9PAJ7vvBOZprIvzJe6/ivdf2EAhIIT7w7IVZXr+ryWEp7UEpxYuDCW4/0s0f/esrX/Xa2YkF3vb/fo8XhxJc3lnvkIT2kkpneXk4wa+9aQ+1VSHuveUQv3xdL3/4z8f5o2++woNPD/DFX7ue3qZqp0W1hcmFZU6NLfCea4z8l7tv3EP/1BKf++F5djdX86tv3O2sgEV4JljsFMmVLL/+xWNML65w/13X0d0QA6CmKsTVvQ08ebZy4gTzqTR//f1z3HxFB4/97lv4paO9BPImbmtdFb1NMZ6tIL/wxekl5lIZruyOv+a1Pc011FaFeHGwciykl4cTpLOKa/tWS4H2tNRw/93X8fm7r6N/apF/fNbVIUBT+fE5w7nxxr3NhW1/cOth3naojY8/9DKPvzLulGivwVcEm5DLKT78led4YXCW/3bHEa7sefUF/8a9zbw4lGBh2Z0BILM5OWq4Od77+h7qo+HXvP76vkaeuTCDYQCWPy8OGTf5q3peqwgCAeGKrvrCPpXAsxdmAV6lCDRvPdTG7uYaTozM2S2WYzx5bpKaSJDXFS0UggHhz++8hkMd9Xzo757l+LA7joevCDbh+6cn+OZLo9x78yHeeUXHa15/w95msjnF0/2uDGuYjr6IN3J1XLurkfH5ZYZmk3aK5RgvDiaIBANc1l637utXdsc5PjJHOlsZvvFnLszQ11RNa13Vuq9f3lnHiVF33Pjs4MmzU1y3p4lw8NW32ZqqEPfffR3VVSH+6JvuiBf4imATjudvfHfe0Lfu66/f1Ug4KDxVIe6h4yPzxGNhOuPrZ4DoleCzF2ftFMsxXhxKcKizjkho/cvoyp44K5kcp8cWbJbMfpRSPHtxhmv7Gjbc5/KOei5MLVWEBT0+l+LsxOKr3ELFdMSj3HSwzbcIvMCp0Xk649F13SAAsUiQa3obK6ae4MTIHJd31iGyfurboY46YuEgz1ZAJpVSiheHEq8y+9eiYwcvDpW/YhyaTTI+v8y1uzZuFaYtyZMVYBU8dT4fH9i3viIAONBey9TiCpMLzhdi+opgE06NLXBgA7Nf84Z9zbw0lGAulbZJKmfI5hQnR+c3zYAJBQNc3RuviIDxhakl5lMZrtpEEexurqGuKlQRcQJtBa4XH9Bc3mWcO8dHyj+l9smzU9RVhTi8yfWiXYpuSDH2FcEGZHOKMxMLHGyv3XS/N+xtIqfg6fPlHSe4MLVIMp29ZCrktX2NHB+eI5XO2iSZM7yQv7lvZhEEAsIV3fUVkTn07IUZqiNBDnVsvHDqikepj4YqImD81Lkprt/TRCi48S32YP5YucF16CuCDbgwtchKJndJi+DavkYioUDZp5GeyK/iNlvhgHE8MjnFC2V+83tpKEEktHGgWHNVTwMnRufLvpjq2YszXNUT3/TGJyJc3llf9opgNJHi/OTipm4hgLa6KuqjIU76FoF7OZXX0gcvcaFHw0Gu7Wso+zjBiZE5ggFhf9vmFtI1+WBhubuHXhic5fKOjQPFmtd1GwFjN5j/VpFKZzk+PLepW0hzeWc9J0fny7op3VP5e8EbNggUa0SEgx11nHbBueErgg3Q/5xL3fgA3ri3heMjc8wurVgtlmOcGJljX2vNJfsINddWsaelhmfKOGCcyyleHpp7TV3JeugYwktlHCd4YTBBJqd4/SaBYs3hznqWVrJcmF6yQTJnePLsFPXR0JYqyg+013FqbMHx2htfEWzAybF5ehpjW2oo94a9TSgFPynjOMGJkTkOdWytVcI1fQ389GL5FpZdmF5ifnn9iuK17Gqupi4aKsQUyhFt/V2zBYvgUKdhYZeze+jJc1PcsLd5S43lLmurJZFMM+5wC3dfEWzA6bGFS7qFNEf6GqgKBcrWPTS7tMJwIrXlnjnX9jUyubDCwHR5Fpa9MGhkyFzZvXHOvEZEuLI7XtYWwTMXZtjTUkNTTeSS+17WXkdAylcRDM0muTi9dEm3kOayDndkDvmKYB3S2RznJi+dOqqpCgU5uruxbAPGOlB8eefWjsdqYVl5uod0oPjAJTLKNFd2x3llpDwDxkopfnpxphAbuhTRcJC9rbVlqwh0celGhWRrWU0hdTZzyFcE69A/uUg6q7hsixc6GP/4V0bnmVksvziBvmgvlTGkOdhRR00kWLZxghcGExzurH9N64CNuLInzkq2PAPGA9NJJhdWthQf0BiZQ+V3LMBwCzVWhzdNoy2mpbaKppoIp0Z9i8B1aO18qdTAYrQp+OPz5WcVnBiZo7kmsmEPmbUEA8KRvoaytAhyOcXLw3Nbig9o9L7lmFKr/8dbyRjSXN5Zx9BsksRS+RVhPnl2ihv2NBe68m6Fy9prOTXuKwLXcWpsnoBsLWNIc1VPA7FwsCzdQydG57i8s37D1hLrcW1fI6+Mzrt2NN9OOT+1yMIWA8WavqZq6qPlWWH8zIUZaqtC21o06VhTuTWgG5heYmg2yRv2bm8ex2XtdZxxOHPIrAllN4vISRE5IyL3rvP6p0XkufzPKRGZLXotW/TaQ2bIUyqnx+fpa6re1sjFSChgxAnKLGCcyeY4Nbaw5fiA5tq+RrI5xfMD5XXz00HfraSOakSEK3viZdlz6NmLM1zdG9/W6EXtYiy3OIG+9t+4r2Vb7zvQXsf8coaRhHPD7UtWBCISBP4CuAU4DNwpIoeL91FK/Y5S6ohS6gjw/wH/WPRyUr+mlLqtVHnM4OTo/LZWOJo37mvm1NiCK5pImcW5SaPCertTtsq1sOyFwQRVoQAHtmEtglFYdnJ0nuVM+bTeWFrJ8MroPK/fhlsIjIrapppI2SmCp85O0VQT2VZsEVaLVp2sMDbDIrgeOKOUOqeUWgEeBG7fZP87gS+Z8L2WsJzJ0j+1tCNFUIgTnCufeoJLzSDYiIbqCPtaa8quE+mLQwkOd9Vv2kphPa7qbiCdVYXhPuXA8wMJsjnFNdsIFINuNVFXVgFjpRRPnpviDXubtuVCBQqKw8kKYzMUQTcwUPR8ML/tNYjILmAP8FjR5qiIHBORp0TkPRt9iYjck9/v2MTEhAlir8/5yUWyObXl1MBiruyOUxMJllXA+PjIHOGgsK91+8fj2r5Gni2jwjKjojixrfiAZrUldfm4ygqB4t7tKQIwZhOcHJsnUyZDewamk4wkUltOGy2modpIxHAyhdTuYPEdwFeVUsX28S6l1FHgfcBnRGTfem9USt2nlDqqlDra2mrdsHi9Yju4xfSvYsLBAAfa6zg74Xw3QbN4ZWSe/W2X7qmzHtfuamRmKc35yUULJLOfc5OLLK5kd6QIeptixGPhsupE+uyFGfa11hCvXn9ex2Zc3lnPSiZH/1R5nBv6mt+u5aw52F7naHqxGYpgCOgtet6T37Yed7DGLaSUGsr/Pgd8F7jGBJl2zOmxBYIBYU9LzY7e39tUXVYVtXoYzU7QueXlMrFsJ4Fija4wLheLQCnFTwdmt1U/UIy+YZbLbIKBGaN3Um9T9Y7ef6C9ltNjC4414zNDETwNHBCRPSISwbjZvyb7R0QOAY3Ak0XbGkWkKv+4BbgROG6CTDvm1Ng8u5urqQptPWOomN7GGMOzSbJl0F1xamGZ8fnlLReSrWV/ay110VDZBIxfGEwQDQfYvwM3GRgK5OTofFnMauifWmJ6cWVb9QPF7G+rJRyUsgkYD84kiYQCtNZurdZmLZe115FMZx2b912yIlBKZYAPAY8AJ4CvKKVeFpFPiEhxFtAdwIPq1Q7jy4FjIvI88DjwKaWU44pgJ24hTW9TNZmcYnTOuVQws1htLbEzRRAICEd6G8omYPzSkFFRvN1AsebK7jiZXHkEjPX/dLPRlJsRCQXYV0atJgaml+hpjG2rkKwYnZzi1LlhSoxAKfWwUuoypdQ+pdQn89s+ppR6qGif/0cpde+a9z2hlLpSKXV1/vfnzJBnp6TSRnvcA207VwQ9jTHAODG8zk4zhoq5qifOqbF50h4PCmZzipeGE1zVs7WeOutRqDAuA/fQ8ZE5YuHgjq0jMOoJykYRzCzR27gztxBQSE5xqsLYrywu4sz4Akptr7XEWvTJUC6KoL2+aktdJTeir6manDKmNnmZ85MLLK1kNx1NeSl6GmM0VId5qQwCxoMzpa2AwVhgjM0tM10G/bkGppOFReBOqI+G6YxHHRtb6SuCInTU/mDHzlc5XQ0xRGBgxvsB4+MjcyVZAwA9ecU46PHjofsEXbWDQLFGB4zLwSIYnCntxgdFrSY8bhXMpdIkkukdB4o1l7XXeds1VC6cGlsgHBR2Ne8sYwgM32dnfZRBj1sEK5kcZycWSlYE3Q3GzWJwxtvH48WhBLFwcEf1FMVc2R3n9Jj3A8aDM0m6S1YE5TGkRlv/pbiGwCgsOzux4Eiiia8Iijg9Ns/eltottxfeiJ6mas+vgM+ML5DOqpIVQWdDFBEcy4YwixcHE1zRVb+tnjrrcVWPETD28s1vPr8C7inxxtdcW0VbXRXHPXwsYNXa7W0qTTEeaK9jOZPjogOLSF8RFHFybL4wMagUehurC3nFXmV1BkFpx6MqFKS9Lup5xXh+cnFH1eZr0cOOvFxkp5V6qa4hKI/ZBGZZBAcdzBzyFUGexeUMgzNJLttmM7H16GmMMTqX8nSDsRMjc1SFAuwuwU2m6W6Medo1lEpnmVpcKbi5SqErbnzGsIctpMF8waQZx+PyznrOjHt7etvgTJLaqhANO6iwLka3vXei55CvCPKcGTei9VsdT7kZvU3VKAXDs97NlDkxOsfBjrod58wX09MY87RrSMteqk8cIBYJ0lwTKYvjUaprCIw4QTqrPN2WRdcQbLfZ3FpqqkL0NMY4NW7/sfAVQZ6TYzvvMbSWXo/XEiilODEyv+Vxe5eipzHGyGzKsw3Ghmb0Crj0Gx9oC8m7imBwZomqUICW2p2nFWvKIXNoYGbJFKUI+Z5DvmvIOU6PzVMVCtBXYgoYrPYb8WqcYGLeyO0uNVCs6W4wqq3H5r05p8FMiwAMl4qXLQKdMVTqChhgb0sNkVDAs4pAKcXAdLLkQLHmQHsd5yYXbC/A9BVBnlNjC+xrrS05KwSgvT5KOCieXfX1TxkKbG+JqZIaHVQc8ujxGJ5NEgwI7Vuc2XwpuhqMflRebc89NJs0bQUcCgbY3VzNhSlvLpqmF1dIprMlB4o1l7XXks4qLtjcldVXBHlK7TFUTDAgdDfEPOsa0oFMM4KBsKoIvBowHppJ0lEfNSVeAsZxTaVznq2oNaOYrJiuhhjDCW8uEgYKqaNmKQKdOWRvnMBXBBiVgSOJlCnpgZqexmrPVhdrt0VXQ9SUz+sqFJV583gMziZNU4qw6mLyontoaSXDtEkZVBrDQvJmYkUhddQk19D+tloCgu2zCXxFAIX+HpeV0GxuLb1NMc9WFw/PJmmsDlMdCZnyedFwkNa6Kk+7hsxSirBqaXkxhVT/D820CLobYoaLZcV76daFOQQmuYai4SB9TdWctrn5nK8IKO4xZJ4i6GmsZmpxhcXljGmfaRfGjc+8Cx2MG8fgrPcUYzanGE2kTAsUQ3HbDe8pgsEZ81JHNVrJetE9NDCdpKkmQk2VOYsmcKbnkK8IgP7JRSKhgKnmrvYZevFiH55Nma4Iuhu8mTI5Npcik1OmpY4CNFSHqY4EPeka0nEeU2MEHi6y011YzWRfWy0XppZsnVbmKwJgOJGiMx4tqaXuWno9HCAdNtknDsYKcng26dgovp1iduooGF1IuxtinnSVDc4miQR3PolrPbo87CobnEma5hbSdMWjZHKKyQX70q1NUQQicrOInBSRMyJy7zqv3y0iEyLyXP7n14teu0tETud/7jJDnu0yPJssrErMolBL4LE4wVwqzfxyxlSfOBgryHRWMe6xWoLVDCpzj4dXM2UGZ4x4iZmLpo64bkzorYBxLqcYmknSY1KgWKMVo50WY8mKQESCwF8AtwCHgTtF5PA6u35ZKXUk//PZ/HubgI8DNwDXAx8XkZ3NviuBkdkknSZf6M01EWLhoOcyh4YLGUPmxwjAexaSdmeZ7ipr9KhFMGNeDYEmHAzQXhf1nEUwNp9iJZsz3SLozC9KR2wc5mSGRXA9cEYpdU4ptQI8CNy+xfe+C3hUKTWtlJoBHgVuNkGmLZPJ5hibXzbdIhARehq9V0tgtSLwml98aNYIBpqVQaXpbogxs5RmacVbyQRDJtcQaLoavKcIBqbNrSHQFILnXrIIgG5goOj5YH7bWn5RRF4Qka+KSO8234uI3CMix0Tk2MTEhAliG4zPL5PNKdNvfGCcIN6zCIxViNkxAh1s9VrA2OzUUY0XU0hT6SyTC8umnxtgLDzsXAGbwWr7aXOPRzxmJBPYWVthV7D4G8BupdRVGKv+B7b7AUqp+5RSR5VSR1tbW00TbCTvpzXbNQTGCTI4veSpVgLDs0nCQTE1GAhG182W2ojnXENDM+YHzmE1+OwlxVhIHTXZJw6r/Ze8dK3oGgKzF5EiQmc8Wrg32YEZimAI6C163pPfVkApNaWU0lHCzwKv3+p7rUZrXbNdQ2BYBPPLGeaS3jH/h2eTdJicQaXxWgqpUoqh2aSpqaOabgcCgqViZvvptXQ1xFjJ5JjyUNuNwZkk7fVVRMNB0z/bSCbwlkXwNHBARPaISAS4A3ioeAcR6Sx6ehtwIv/4EeCdItKYDxK/M7/NNlZ94uZbBPqC8VIX0uHZlCVKEYzj4aUA6exSmqWVrKmpo5r2+ijBgHjqeGhrzirXEHjLVTYwvWR6oFjTFY95K0aglMoAH8K4gZ8AvqKUellEPiEit+V3+y0ReVlEngd+C7g7/95p4A8xlMnTwCfy22xjJJGiripEXbS06ULr0ePBuQRDFtQQaIzqYu/UEgxZlDoKRmPCjnpvBUgHZ5KEAkJ7vfnHw4kAaakMziRNDxRrOhuiTC4s2za5zZRUCKXUw8DDa7Z9rOjxR4GPbvDe+4H7zZBjJwxbkDqq8dpcgmxOMTqXsux4dDca5v/k4jJtddZ8h5msKgJrLvZuj01uG5oxWo+Y0ap9LdoK9UotQTqbYySRND1QrOmKx1DKqGy3StkUU/GVxSOJVCFv12zisTD10VAhzcztjM+nLMugguJaAm8cj8JkMosu9h6PVRcPzixZZi02VIeJhYOesQiGZ5PkFPRYaBHo77GDilcEVjRYK8ZIIfWGRWBVDYFGx0y8ogiGZ5NEwwEaSxxKvhFdDTFG57wzwtPsOQTFiIinagkKNQRWxQh0zMSmzKGKVgSpdJapxRW64ta5KXobqz1z4xuyqIZAU8iU8czxMOIlZoxkXI/uxhg5BaNz7neHLGeyjM8vW5IxpNGT27yAFc33illtxGfPuVHRimA0n57VaalFEGNwxhu1BPoi7LRIMdZUhWisDnumlmBoNkm3hTc+LynGQqGhRTc+0LUE7leKYMT9ggGx7FqJRYI0VIdtqyWoaEVgZeqopqexmlQ6x4SNnQR3yvBskvqoNRlUmh4vWUgzSUsyhjRONBfbKVavgME4HpMLy6TS7h9QMzBtVJybNb50PYwUUt8isBxdsGFV3jysjrDzQsDY6ngJrFaQuh3tNrTKTQbeajNhxWSytehzb9QDrSYGZqyrIdDYGTOpaEUwkj/IHRbHCMAbXTeHZlOW3vggX0vgAVeZFXMI1hKLBGmuiXhCMQ7OJAu1D1bhpVqCgWnz5xCspTNuX/+lilYEw4kkzTURS0rENYXqYg8UlY0krLcIehpjpNLubyVQSB21qIZA093ojbYbgzNLdNRb6wopWEgutwiSK0bzPbMG1m9EZ0OURDJty7jbylYEFoxkXIvRbK3K9Rf74nKG2aW09a6hvGJ0e4DUjvgR2N9KYKcMzVqXOqrRlrnbj8dQfva21YVeWjHaETCuaEUwkkhaFvUvprcp5vpaAn2yWX3j80pR2dCs9a4QWK0udrurbHAmaambDKAqFKS1rsr1ikDH+6xWjJ02ppBWtiKwwSIAwz3k9mCx1TUEmm6PTCobmkla7goB43in0jmmXewqW8nkGJ1LWVpDoOnyQDKBXtRZHyMwFiG+RWAhVs3mXY/eRsP8z7q42ZrVVcWa+qjRdsPtF/ugRQNp1uKFFNLRRAqlrF8Bg9Hgz/0WwRJVoQCtdebO7FiLnbOcK1YRjOQPrlV9horpbaomk1O2DprYLsN5V0ibxSc3eKOWYNjCLqzF6Jurm29+hRoCG46Hzp13s6tsYNqIl1hVca4JBwO01VUVshutpGIVwbBNPnFYNSHd7B4amrXHFQKrKaRuJZtTjCZSlvvEYdUV52bFWJhMZpNrKJnOMruUtvy7dsrAzJItHUHBvhTSylUEhXYKdlgE7veLWzWbdz26G42um25d9Y3NpcjklOWpo2B03ayOBF3tGhqcTRIQa+ttNF5wlQ3OWF9DoLGrqMwURSAiN4vISRE5IyL3rvP6h0XkeH54/XdEZFfRa1kReS7/89Da91rFyGzKNldIZzxGQHD1IPvhWevaca+lp7GaxRX3rvrsSh0F3XXT3SmkgzNLtNdHiYSsXze6vahsLpUmkUxbXkOg6YrHGE5Yv2gq+T8rIkHgL4BbgMPAnSJyeM1uPwWO5ofXfxX4k6LXkkqpI/mf27CJ4USS9roqW1whkVCAjvoogy4tKsvl4xd2ZFCB+1NIV2fz2nM83N52w8r202tx+8hKXRhqh5sMjIaYqXTO8kWTGXfB64EzSqlzSqkV4EHg9uIdlFKPK6X0XfApjCH1jmJMJrPn5AZjgIVbawkmF5ZJZ5WlDdaKWR3c7s7joRWUXYpRu8rcytBM0rYbX3NNhEgo4NrqYqvnEKxFt8i3eqFghiLoBgaKng/mt23EB4BvFj2PisgxEXlKRN5jgjxbYiRhTw2BpsfFF/uQTamjml6XD6gZmk3SWB2mOmLKJNdL0t0QY2YpzdKK9a0Etksma9QQ2JFBBYarzM0Wkt3WYlehuthaxWhrsFhEfgU4Cvxp0eZdSqmjwPuAz4jIvg3ee09eYRybmJgoSQ6llKEIbAh+abriMcbml11ZS6ArF+1SBPWxEHVVIdcqguFZ66toi3FzF9KRhDG+1K4bH9jbdXO7jCaMqXUNFk2tW4seWWl16rkZimAI6C163pPf9ipE5O3A7wO3KaUKzfmVUkP53+eA7wLXrPclSqn7lFJHlVJHW1tbSxJ4anGFlUzOlvYSmo54lGxOMenCuQR2FZNpRMTVzdaMOQQ2KgIXx0xWV8D2uELA3f2X9Ixzq2sINC01VYSDYnmbCTMUwdPAARHZIyIR4A7gVdk/InIN8NcYSmC8aHujiFTlH7cANwLHTZBpUwqpozZe7Kvl4u7zfQ4nktRWhaiP2uMKAffWEiil8iMq7bvxdbs4ZVIrJzstpK6GGOPzy6RdOMt5NJGyvP9UMYGA0BG33kIqWREopTLAh4BHgBPAV5RSL4vIJ0REZwH9KVAL/P2aNNHLgWMi8jzwOPAppZQNisCevjrF6BzsURdWF+saArtWOWCsMN0YM0kk0yytZG2rqQBoq6siGBBXroK1srbzeHQ3xFDKnfwFacgAACAASURBVANqDIvAvmMBhoVktWvIlCWgUuph4OE12z5W9PjtG7zvCeBKM2TYDvqg2vkP1Tn6rrQIbGq+V0xPY4z55QyJZJp4zB5/61YYtGES11pCQSO92I2KcWgmSXt9FVUh62Z2rKU4hdSuCt6tkMspxuZSthTWFdPVEOMn56ct/Y6KrCwenk1SFQrQVBOx7Tsbq8NEQgFXrnLsGFG5ltXWCu5yDxUmk9noGoLVdtRuY3DG/nOjUFTmMut5cnGZTE7ZbhF0xqOMzqUsTTSpTEWQTx210xUiInTGo66zCOyYzbseOj7jNsVoZ1VxMd0N9g0q3w6jc/Zbi6sWgbuOhz5XO2yqwNd0NcTI5hQT89YlmlSkIhiZtWcgzVo66qOu60Dq1I3PrcHzoRkjPdBOaxEMRTA6lyLjogCpkWadpNPG4ChANOzOWc76XLU9RmCDhVSRisDOvjrFuNEiKNQQ2Hw8WmqNAKnbLIKhfPtpO61FMFxD2ZxidM49xyORTJNK52z3iQOu7L+k20HbfTxWJ5X5isA0Mtkc4/Mp21fAYLhDxuZS5FxUVGZ3DYEmGBDa66pcpxiHZpOFucp2UkghdVHAeHUFbP+iyY1FZSNzKSLBAM02W4t6kTZioaus4hTB2PwyOWX/jQ8MiyCdVUy5aCzh0GwSsanF8Fo64u50ldnVc6mYgl/cRcejkF3n0PFwW6vy0UQqPzXMXmuxPhaiJhL0XUNmos07p2IE4K4A6fBskva6KGEburCupbMh5qpjkUpnmVywP3AObrcI7L9WuhtiLK5kmUu5p//SSML+1FHIJ5o0xHyLwEzsbrBWzGotgXsu9uFE0pEVH0BnvREzccuqz0lXSCwSpLE67Kqum6OJFAGB1lrrZ3asxQ6/+HYZdaCYTNMZj/oWgZk4ucopVBe7KCDoRDGZpiMeJZnOMpd0x6rPSVcIGDc/N1lII4kUbXX2jC9di9sG1CilCq4hJ7A6vbjyFMFskrpoiLqo/dWszTURwkFxTYBUKWXbkPb1KFhIc+642LXp7YRFYHyvuwKkTt/4wD2KYHpxhZVszvZUWk1nPMbkwjLLmawln19ximBoNmV7qqQmEBDa66OuWfVNL66wnMnZ2o67mEKLXZcUDmlLzTHzvyHqLmsxYd8c67W01Oa7brrkWhlxqJhMo68Vq+4dFacIRhz0iYO7Vn12zyFYi9uKyobzA2miYfv66hTTGY8xu5QmuWLNqm87FFwh9c4tmjpd1I561EGXMqymkFrlHqpAReCcTxyMFYVbVn1OBs7BCEIGxD0dWQ1XiHPnxqpidP54zKUyLK1kHbvxgbtqCUYctha7LB5QU1GKILmSZXpxxTFXCKxWF7shU8apYjJNKBigrc491dZ2T61by2qrcuePx2pfHQcVQdw9/ZdGE0lCAaHZgQwqsD6LqqIUwWr7aWdXfSuZHDNLacdk0IwkjC6sjTaN3VuPDhe13RhJJB2/8QGu8IvrVEWnYgSwGjNxw3jXkdkU7fVRggF7i8k0VqcXV5gicNYnDu4y/53owrqWrgZ3VBen0llmltIOuw3dM7zIqU6bxXTGre+6uVWcGEizlq6GWKEg1mxMUQQicrOInBSRMyJy7zqvV4nIl/Ov/1hEdhe99tH89pMi8i4z5NmIIYc6bRajLyw3mP9OdWEtpqM+5gpXWSErxKH0QDC6brqlqGwkkULEmJ7mFG6aSzDqwECatXRa6CorWRGISBD4C+AW4DBwp4gcXrPbB4AZpdR+4NPAH+ffexhjxvEVwM3AX+Y/zxJ0mqKT/1A3ZcqMJpzpwlpMZzzK0kqW+WVni8qcLibTuKWobDSRpLW2ypHWI5pOlyyaCu24HbcIrKsuNuO/fD1wRil1Tim1AjwI3L5mn9uBB/KPvwq8TQx/xO3Ag0qpZaXUeeBM/vMsYSSRpKXW3rF7a3FL++VsTjE2v+z4ye2WAKnTxWQat6QXu8EVor/f6eOx2o7b2XOjqyHGfCrDggWLJjMUQTcwUPR8ML9t3X3yw+4TQPMW3wuAiNwjIsdE5NjExMSOBDV84s6e3Lr9stPm7vi8EYRzfgXsjovd6WIyjVuKykZcYC3GY2Fi4aDj1rOTbWmKKXgTLLhWTBlebwdKqfuA+wCOHj26I4fyH95+hSXadLt0xJ2vLnZqIM1a3DKy0uliMk1xUVks4pwso4kUb9rf4tj3g+666XwygRtSaQH+1YFW/umDN9LbZP68DDMUwRDQW/S8J79tvX0GRSQExIGpLb7XNHY111j10duiMx7jxMicozK4xSfeVleFiPMxE6eLyTTFWWV7W2sdkWE+lWZhOeP4ChjcUUvgFougqSZi2QhVM1xDTwMHRGSPiEQwgr8PrdnnIeCu/OP3Ao8pI03kIeCOfFbRHuAA8BMTZHI1HS4oKiuUzDvUQkATDgZora1y3CJwuphM44aYiVtWwFoGp8+N0UTSsXbcdlGyRaCUyojIh4BHgCBwv1LqZRH5BHBMKfUQ8Dngf4nIGWAaQ1mQ3+8rwHEgA3xQKeV8oxWL6Sxqvxx3qJhreDZFdSRIfcx572BnPFoo4XeKkUSSa/oaHJUB3FFU5oZ6G01XPMr4fIpMNudIO2xwth23XZhyF1BKPQw8vGbbx4oep4B/s8F7Pwl80gw5vIJeaY3MJR1TBDodzsliMk1HPMq5iUXHvt8NxWQaNxSVabehkzUVms6GGDlljJh1ql26U5PJ7KR8VZyLWZ1U5tyqT1cVuwGnc+fdUEymiYaDNNVEXGERtLvgeFiZKbNVRhxsx20XviJwgE4X+IHdUFWs6YxHmV/OMJ9ypv+SWwLnmg6HZ1aMJlK01FYRCTl/e9CLFacUo1FM5lw7brtw/j9dgbTWGe2XnbII0tkcEwvLrsiSgVV3yJhDcQK3FJNpnC4qG3FBvY3GaVfZ/LLz7bjtwFcEDhAOBmitq3LM3B2bS6EUrsiSgeIWu84oArcUk2mcLiobSSRd4SYDqI+Gqa0KOXduuCiDykp8ReAQTg6oKeRFuyZG4KyrzC3FZBqnJ5W5ob1EMcYMD2cWTW6pIbAaXxE4RGe9c334CwNpXHJy66CkU8fDLcVkGidblS8sZ5hPZdx1PBpiDp4b+Qwql1wrVuErAodwslDGbRZBJBSgpbaK0TlnVn3DLikm0xTSix04P5yezbseXfGoY66h1Xbc7jkeVuArAofojEfzqy/7M2VGEynqqkLUVjlfTKbRIzydYNThyWRr6XIwvdiNiqAjHmVyYZmVTM7273ZTBpWVlPdf52KcbCUwPJt0TaqkpiMeLWTv2Imbisk0TmbKDLtgnOtatGJ0IqvMbfESq/AVgUM4WVTmhhbDa+lyKCDopmIyjZNFZXph0lbvnr46etHiREqtmzKorMRXBA7hZKaMGyslO+Ix5lIZFm1uE+62YjKNU0VlI4kUzTUR12RQgfOLJjdZi1bhKwKHcCpTZjmTZXJhxXUWQUEx2mz+u62YTNPV4ExR2WjCfW7DwvAimy3G1Qwqdx0PK/AVgUPoTBm73SFuLZBxKmbitmIyTUfcmaIyN7ZTqKkKUR8N2R5DcmPg3Cp8ReAgTmTKFFoMu2wF7NTISrcVk2mcKipza3C0y4FaglEXxo+swlcEDuJELYFbfeLaVWa7ReCyYjKNE0VlSysZEsm066xFcKa6eMSFGVRW4SsCB3Hi5HbLrOK1RMNBmmsitg+ocVsxmcaJojI3u0KcqC52YwaVVZSkCESkSUQeFZHT+d+N6+xzRESeFJGXReQFEfnlote+ICLnReS5/M+RUuTxGh3xqO2ZMiOJJA3VYUcHo2+EExaS24rJNE4Ula0qAnctEsBIL55eXCGVts9VNjLnvgwqqyjVIrgX+I5S6gDwnfzztSwB/4dS6grgZuAzIlI8E/D3lFJH8j/PlSiPp3AiU2ZkNuVan6fd7ZfdWEymcaKobNjFFkGHQ4rRjYsEKyhVEdwOPJB//ADwnrU7KKVOKaVO5x8PA+NAa4nfWxbo7Aw7V8Fuzou2O1PGjcVkGieKytzcYK3LgZiJWwPnVlCqImhXSo3kH48C7ZvtLCLXAxHgbNHmT+ZdRp8WkQ2dcSJyj4gcE5FjExMTJYrtDjod8APrWcVuxO5MGbcGzjV2F5WNJFKuzKCC1QaJdqaQutVtaAWXVAQi8m0ReWmdn9uL91NKKUBt8jmdwP8C3q+U0t2jPgocAq4DmoCPbPR+pdR9SqmjSqmjra3lYVAUAoI2uUOSK+51hYD9rjK3FpNp7C4qG3Vh6xGN3VlU+lpx6/Ewm0u2n1RKvX2j10RkTEQ6lVIj+Rv9+Ab71QP/Avy+Uuqpos/W1sSyiHwe+N1tSe9xtPlvV6bMajqcO1c5HUUX+56WGsu/z63FZJqOeJRjF2Zs+z43u0LsdpW5/dwwm1JdQw8Bd+Uf3wV8fe0OIhIBvgZ8USn11TWvdeZ/C0Z84aUS5fEcdpr/BZ+4S0/uQk8Zm8x/txaTaZxwlbn13ADjWrHLeh5xcbzECkpVBJ8C3iEip4G3558jIkdF5LP5fX4J+Fng7nXSRP9WRF4EXgRagP9cojyew87qYrdWFWt00NYu15Bbi8k0drpDdAaVm1fAXQ32XStuTqW1gpImkyilpoC3rbP9GPDr+cd/A/zNBu+/qZTvLwc64lGevWiP+a9XU25d5cQiQRqrw7b5gd1aTKYp7rq5t7XW0u/ywo2vMx7j6X6brhUXZ5RZgV9Z7DCd8SgzNpn/wy5sMbyWjnjMNleZ27NC7Mwq88KQ9s6GKIlkmqUV6wswRxJJ4jF3Fl5aga8IHKansRqAodkly79rxIUthtdil6vM7RlUYG9WmZ4X7WbFqF2adswvHpxJ0tvk3nPDbHxF4DC9TYYiuDhtgyKYdV+L4bV02KQIdBzCzaa/nVll+ubqZkXQYWPM5OL0En35a7MS8BWBw+iT7eKU9Ypg2IWTydZiV08ZtxeTaezKKhtNpIjHwlRHSgobWkqXTVlluZxicDpZWKRVAr4icJiW2gjVkSAXLLYI9LQlNwcDYbWnjNWDyt1eTKaxq6jMzTUEmva40XjAaotxdC7FSjbnWwQ+9iEi9DVVM2CxItB9ZNxuEdgVIPVKwZBd/ZdG59zbekRTFQraMtVPu2l3NVlf1OgWfEXgAnqbqi2PEQx7ZAVslx/Y7cVkGruKykZmvdFps6shanl1sb4WfYvAx1b68orAaNdkDW5vL6HpboghAhenrFUEbi8m09hRVLawnGFqccUTPnE7qosHppcIBsT18SMz8RWBC+hrqiaVzjGxsGzZdwzPphBZHQnpVqLhIJ31US5MLVr6PW4vJtN02tCHXx/r3c3ud4XYMbv4wtQSXQ1RwsHKuT1Wzl/qYvqarc8cGk2kaKmtIhJy/798V3MN/RYrArcXk2nsiJlcyJ93u5rdbxF0xqP5xIe0Zd9xcXqpouID4CsCV9BnQy3BcCLpiRUwwO4Wa2MmXigm09hRVLaqCNx/8yvMJbBQMQ5ML3nCTWYmviJwAQW/uIU3vxEX95pfy67mGiYXVixb9XmhmExjR1HZhalFWmqrqK1ybw2BRi9mrEqp1fGSSgoUg68IXEE0HKSjPmqZIlBKMTLrDVcIwO68i+KCRa4yfRPxSjDQ6lnO/VOLhWPudjosdpVp96yvCHwcoa+p2rIYwVwqw+JK1vU1BBrtorBKEfR7KDgKhu/eqmMBxnHu84giaK+PImKdq6xQQ+CR42EWviJwCX0W1hJ4ocVwMfoitCpgfH5ikapQwBOuIYA9LTVcnF4inc1deudtkkpnGUmkPKMUw8EAbXVVllkEurDTjxH4OEJfUzXj88uWFA4Ne6SqWFMdCdFWV2VZCun5yUX2tNQQCIgln282e1pqyeaUJdXnXlwBd8atSyG9OL1EPBYmHgtb8vlupSRFICJNIvKoiJzO/27cYL9s0XSyh4q27xGRH4vIGRH5cn6sZUWiTfPBGfMvdq/01SlmV3M1/Ra5Q7Qi8Apa1vOT5ivG/klvuclAVxdb4xq6UGFdRzWlWgT3At9RSh0AvpN/vh5JpdSR/M9tRdv/GPi0Umo/MAN8oER5PIuVKaQjiSQBgba6KtM/2yp2NddYYhGkszkuTi95ShHstVAR6NiDlxRBR32MkdmUJZX4A9PeiZeYSamK4HbggfzjBzAG0G+J/MD6mwA90H5b7y83tCKwIig4OJOkoz5KyEOVkrubqxmbWzZ9GtXgTJJMTnlKETTWRGioDltjEUwt0lAdJl7tHVdId2OMZDrL1OKKqZ+bzSkGZ3yLYCe0K6VG8o9HgfYN9ouKyDEReUpE9M2+GZhVSukrfRDo3uiLROSe/Gccm5iYKFFs99FUE6EmErTEIjg7scC+Nmtn3pqNzhwy+3hoV8jeVu8oAjDcQ1ZZBF4oJCtmX/5/d27C3OMxOpcinVW+IlgPEfm2iLy0zs/txfspw07byFbbpZQ6CrwP+IyI7NuuoEqp+5RSR5VSR1tbW7f7dtcjIvRa0I5aKcXZ8QX2WTz83Gy0q6J/0tzjcS5/M93T4q3jYZUi8FINgUafy2fGF0z9XO2K9BXBOiil3q6Uet06P18HxkSkEyD/e3yDzxjK/z4HfBe4BpgCGkRElzP2AEMl/0UeZlez+Smko3MpFleynrMI+gpFZebe/M5PLhCPhWn0kCsEjDjBSCJlqqtsOZNleDbpOYuguyFGNBzg7IS5imCgAttPa0p1DT0E3JV/fBfw9bU7iEijiFTlH7cANwLH8xbE48B7N3t/JaFrCXI584JgZ8eNG+k+j7lC4rEwTTUR0zOHdMaQEaLyDtqCMdNCGpxJklN4ziIIBIS9LbWmK4KL00uEAuL6Vu1WUKoi+BTwDhE5Dbw9/xwROSoin83vczlwTESex7jxf0opdTz/2keAD4vIGYyYwedKlMfT9DVVs5wxtx31mfF5APZ7zDUE2kIy2SKYWCxk4XgJK1JIL3qo2dxa9rXVmu4aujidpLsx5qmkCrMoqcuUUmoKeNs6248Bv55//ARw5QbvPwdcX4oM5URvUQqpWXMDzk4sUhcN0eqh1FHN7uYafnJ+2rTPS65kGU6kPJUxpNndYpwb5yfNu/npym0vFZNp9rfW8s8vDJNcyRKLmDNl7uLUYkW6hcCvLHYVhUwZE90hZ/KBYq+5QsC4QQ0nkixnzKm21je+PR5zk4FRbd0ZjxaC3WZwYWqJ2qoQzTXeq+Pc11aDUnDORMV4sUKLycBXBK7CinbUZycW2O+xQLFmd7NxsQ9Mm1NFer6QMeQ9RQDG8TDTNdQ/tciu5mpPLhL0OX3WpBTSuVSamaW0rwh8nCcSCtAVj5mmCOZSacbnlz2XOqrZZXLm0HkPtlMoZk+ruYrgwtSSZ4/F7uYaROCsSXGCSs4YAl8RuI7eJvMUgb5IvJYxpCnUEpjkKjs3sUhHfZQaDwxgWY+9LTXMLqWZMaGiNpPNMTC95Mn4ABgzPHobqzljUuaQdsdWWtdRja8IXMauphrzFEHebPaqa6ihOkx9NGSiRbDgWbcQFGUOmXA8hmdTZHLKsxYBGOe1WRaBvuYqsc8Q+IrAdfQ1VzNhUjvqsxMLhIPi2VWOiOQH2ZujGM9PLnoyUKwpKAIT/OJezhjS7Mu7yrIm1N1cnF6isTpMfdRbhYZm4SsCl9FrYhfSM+ML7GquIezhvGhjOlfpN76ZxRVmltKerCHQ9DZVEwyIKXECfUx3e/h47GutZTmTY2im9GSCSs4YAl8RuA4z21GfnVjwZCFZMbubaxicSZY8neu8x8ZTrkc4GKCvqdoURdA/tUQ0HPBUa/K1rGYOle4eGphe8qzlbAa+InAZu0xSBCuZHBemltjX5t0bHxgWQTanSl71aXeKl11DYLiHzKgluDC1mM+88V7qqMas5nOZbI7BmaSn3WSl4isCl9FQHaauKlRyF9KL04bv1KuBYo12XZQ6v/j85CLBgNDb6O2LfU9LDf2TiyX3o+qf8m7GkKaxJkJzTaRki2AkYQTOfdeQj2vQ7ahLtQjOFJrNeVsR6JtVqcfj/NQivY0xIiFvn/J7WmpIprOMze98Zm8up7g47b05BOuxr7X05nOVOrC+GG9fFWVKX1PpAVJ9cez1uCJora2iOhIsuevm+QlvzSneiL0mZA6NzqVYyeQ8bxGA0WqiVNfQxQovJgNfEbiSXc3VDMwkSzL/z44v0BmPUuvR4imNTiEtRTEqpfLtp72tFGE1xlFKnKC/DALnmn2ttcwspZkuocjuwvQS4aDQGY+ZKJm38BWBC+ltqmYlk2N8fuftqM9OeG8q2Ubsbq4uKUYwNrdMMp31fKAYoL0uSiwcLClz6EKh/bT3V8D7TMgcuji9RE+jkZpbqfiKwIWUmkKqlOLsxKJnW0usZVdzDQPTyR0XDukOlV6uIdAEAsKu5tJSSPunFokEA2WxAt5vQuZQpaeOgq8IXIlWBDt1h4zNLbOwnPF8xpBmd3M1K9kcI4mdpZB6vevoWvaW2HzuwuQSvU2xslgBdzfEqAoFSmo1YRSTeV8plkJJikBEmkTkURE5nf/duM4+bxWR54p+UiLynvxrXxCR80WvHSlFnnKhuzFGQNhxCumZQrO58lAEOrvlwg5bTZyfWCQaDtBh0rAfp9nTUsPA9NKOi+z68zUE5UAgIOxtrd1x87lEMs3sUppdTeVxPHZKqRbBvcB3lFIHgO/kn78KpdTjSqkjSqkjwE3AEvCtol1+T7+ulHquRHnKgnAwQFfDzruQan9p2VgE+elcO40TnJ80bnyBMlgBgzG/OJNTDO6gyE4pxYWp8kgd1exv23kKqZ86alCqIrgdeCD/+AHgPZfY/73AN5VS5k4kL0P6SqglODuxQF2VN8dTrkd7XZSqUGDnFsHkInvLJF4CxfOLt3/zm5g3AudauZYD+1qNNiSp9PYbNfqpowalKoJ2pdRI/vEo0H6J/e8AvrRm2ydF5AUR+bSIbHjnEpF7ROSYiBybmJgoQWRvYCiCnfnEz4wvsLfNm+Mp1yMQEPqaqunfgV88nc1xcXqpbOIDsBr0PreDWoJ+Dw+s34h9rbXG2ModHI9Kbz+tuaQiEJFvi8hL6/zcXryfUkoBG6Z1iEgnxhD7R4o2fxQ4BFwHNAEf2ej9Sqn7lFJHlVJHW1tbLyW25+lrrmZyYZnF5cy231sOzebWYtQSbN8iGJxJksmpsqgh0DTWRGioDu8oYLxaQ1A+N75Sms9dmFqiuSbi+XqbUrnkX6+UevtGr4nImIh0KqVG8jf68U0+6peAryml0kWfra2JZRH5PPC7W5S77NGm6sDMEoc66rf8vvlUmrG5Zc83m1vL7uZqfnhmAqXUtiwd7T4pJ4sAjL9nJ4rgwpTRc6mroXyyZPa05MdW7kAR+KmjBqW6hh4C7so/vgv4+ib73skat1BeeSDGlf0e4KUS5Skb9CrnxcHEtt6np5KVS8aQZldLDan09ovstLugHGoIitm5IliipzHm6RkVa4mGg/Q0xrZdS5DNKY6PzJXdtbITSj0bPgW8Q0ROA2/PP0dEjorIZ/VOIrIb6AW+t+b9fysiLwIvAi3Afy5RnrLhYHsd7fVVfPfk9uIhOp+6XDKGNNqVsd04wfnJRRqqwzTWRKwQyzH2ttQwkkixtLI912G5ZQxp9rfWFhZBW+X5wVmmF1d488HydzVfipIcY0qpKeBt62w/Bvx60fN+oHud/W4q5fvLGRHhrQfb+JcXRkhnc1tewZ2ZWCCUD66WE7uLaglu2Nu85fcZPYbK78anYx79k0sc7tqa61ApRf/UItf0NVgpmiPsa63libNTZHNqy4Vyj78yTjAgvPmArwjKxz4sQ956qI355QzH+me2/J6z4wvsbvH2eMr16IxHCQdl24Pbz08usqcMV8CrKaRbPx7TiyvMpzLlaRG0GWMrh2e3nmn32CvjvL6vkXh1Zc4pLqa87hZlxpv2txAJBnj85GYx+FdjNJsrvws9FAxweWc9PzozueX3JFeyjCRSZWkR6DqA7dQS/DB/7F63RQvCS+jmc1utMB6bS/Hy8BxvPdRmpViewVcELqamKsQNe5t47JWtKYJ0Nj+eskyDX7de1ckLg4ktr4J1qmQ5dB1dS3UkREd9lPPbmNPwjeeH6aiPct3uJgslcwZ9zm+159Dj+WvqJl8RAL4icD1vOdjGmfGFLfUdujC1RKYMxlNuxK1XdQHGDW0rlFuzubUYmUNbu/HNLq3wvVMT3HpVZ9m02iimqSZC0zbGVj72yjhd8SiXtZfntbJdfEXgcvSKZStWgb4IytUi6GqIcf3uJh56fhijfnFznh+YJSDlMYBlPfa11XBydH5LmUP/+6VR0lnFbUe6bJDMGfa11nB2/NLW4nImyw/PTPLWQ21lU31fKr4icDl7WmrY01KzpTiBzqMup746a3n3kS7OjC9wYmR+0/1S6SxfOTbAOw63U1OmVaO3H+lmcSXL1346dMl9H3p+mN3N1VzZHbdBMmfYt8UupE+fn2FpJeu7hYrwFYEHeOvBNp48O0VyZfOmWmcnFuioj1IXLd8siJ+/spNQQHjoEu6hrz83xMxSmvffuMcmyezn6K5GXtddzxd+1L+phTQ+l+LJc1PcdqS7rFfA+9tqmV5cueTYysdeGacqFOBn9rXYJJn78RWBB7jpUBvLmRxPnN04YyabUzx3cbbsWkuspakmwpsOtPCN54c3nOmslOLzP+rnUEcdN+wpv8CoRkS4+2f2cHp8gR+dmdpwv39+YQSl4Lary9ctBKuZQ89e2Dzd+vGT47xxXzOxSNAOsTyBrwg8wHV7GqmOBDeNE/z9sQHOTS7yy9f12SiZM9x2dRdDs0mevbj+Bf/kuSleGZ3n127cU9YrYIB3X91JS22Ez//o/Ib7fP35YQ531pdtEoHmjXub6W2K8aePnCSzwdCe85OLnJ9c5K0HfbdQGl9h9AAACWRJREFUMb4i8ABVoSBv2t/C46+Mr+sCmE+l+a/fOsnRXY28+6pOByS0l3de0UFVKLChe+jzP+qnqSZS1oFRTVUoyPtu2MVjJ8fXbb9xYWqR5wdmK+JYRMNB/sMtl3NybJ4vPT2w7j6P+Wmj6+IrAo9w06E2hhMpTo69Nkj63x87w+TCCh979+GyXwED1FaFeNvlbTz84shrVn4D00t8+8QYd17fSzRcGab/r9zQRyggPPBk/2te06m27y5zt5Dm5td1cMOeJv7sWydJLKVf8/rjr4yzv63W7zi6Bl8ReIS3bpBG2j+5yP0/Os97X9/DVT3l10NmI267uovJhRWeOPtq3/gDT/QTFOFX37DbGcEcoK0+ys9f2cnfHxtkPvXqm99Dzw9zdFcj3WXUdnozRISPvfsws8k0/+07p1/12sJyhh+fn/KtgXXwFYFHaK+PckVXfaEiUvPJh08QDgb4vXcddEgyZ3jLwTbqqkKvcg8tLmf48rEBbrmyk454eQyq3yrvv3EPC8sZvvrMYGHbK6NznBpbqAi3UDFXdMX55aO9fPHJ/le1pv7h6UnSWeXHB9bBVwQe4qZDbTxzYaZg8v7ozCSPHh/jg2/dT3t9Zd34ouEg77yig0deGi3Mqv2HZweZT2V4/427nRXOAa7ubeDavgYeeKK/kE310HPDBAPCz11Z/nGjtfz7dx4kGg7yyX85Xtj23ZPj1FWFOLq70UHJ3ImvCDzEWw62kVPwvdMTZLI5PvGN4/Q0xvjAm8o3V34zbjvSxfxyhu+enCCXU3zhiX6u7olzTW/luMiKufvGPfRPLfHdU0ZSwTdeGOZn9jXTUrvhKPCypbWuin93034ePznBd08ax+Pxk+P8q8tayq4zrxmUZ8llmXKkt4GmmgiPvzJOIpnm5Ng8f/lvr62YoOhabtzXTHNNhG88P0w0HODcxCKf+eUjFREwX49bXtdBR32Uz/+on4bqCAPTSX77bZc5LZZj3H3jbv7uJxf5w38+TuMvHWFsbtl3C21ASapRRP6NiLwsIjkRObrJfjeLyEkROSMi9xZt3yMiP85v/7KIlNcYKZMJBoQ3X9bK4yfH+bNvneT6PU3c8roOp8VyjFAwwM9f1cm3T4zxl4+fpbWuqiLdIJpwMMCvvnEXPzg9yacfPUUkFOBdV7Q7LZZjVIWC/P7PXc7ZiUV+5yvPAYZV7fNaSrWRXgL+NfD9jXYQkSDwF8AtwGHgThE5nH/5j4FPK6X2AzPAB0qUp+x566E2ZpfSzCbTfOzWykgX3Yzbru5iOZPjJ/3T/MoNu4iEKtvsv+O6XiKhAD84PclNB9vKut3IVnjH4XZu3N/MuYlFru6J01pXeW6yrVDSVaOUOqGUOnmJ3a4HziilzimlVoAHgdvzA+tvAr6a3+8BjAH2Ppvw5gOtVIUC3HFdL68r4wZiW+XaPiM1MhIM8L4byr+q+lI011bxnnyWUKVlC62HiPAHtx4mFBDeeUXlWs+Xwo4YQTdQXOY3CNwANAOzSqlM0fbXzDXWiMg9wD0AfX2Ve8HHq8N863d+ls54ZeSFX4pAQPj4uw8zs7Tir/by/NbbDlAfDfO2y303CMChjnoe+/dvoT3unx8bcUlFICLfBtZTpb+vlPq6+SKtj1LqPuA+gKNHj166GX0ZU44zZ0vBX+m9mp7Gav7jrYcvvWMF0dfsVxJvxiUVgVLq7SV+xxDQW/S8J79tCmgQkVDeKtDbfXx8fHxsxI7I2tPAgXyGUAS4A3hIGd3THgfem9/vLsA2C8PHx8fHx6DU9NFfEJFB4I3Av4jII/ntXSLyMEB+tf8h4BHgBPAVpdTL+Y/4CPBhETmDETP4XCny+Pj4+PhsH9nK7Fe3cfToUXXs2DGnxfDx8fHxFCLyjFLqNTVflZ107ePj4+PjKwIfHx+fSsdXBD4+Pj4Vjq8IfHx8fCocTwaLRWQCuLDDt7cAkyaKYzdelx+8/zd4XX7w/t/gdfnBmb9hl1Kqde1GTyqCUhCRY+tFzb2C1+UH7/8NXpcfvP83eF1+cNff4LuGfHx8fCocXxH4+Pj4VDiVqAjuc1qAEvG6/OD9v8Hr8oP3/wavyw8u+hsqLkbg4+Pj4/NqKtEi8PHx8fEpwlcEPj4+PhVORSkCEblZRE6KyBkRuddpebaDiNwvIuMi8pLTsuwEEekVkcdF5LiIvCwiv+20TNtFRKIi8hMReT7/N/wnp2XaCSISFJGfisg/Oy3LThCRfhF5UUSeExHPdZ8UkQYR+aqIvCIiJ0TkjY7LVCkxAhEJAqeAd2CMxXwauFMpddxRwbaIiPwssAB8USn1Oqfl2S4i0gl0KqWeFZE64BngPV45/gD5Ods1SqkFEQkDPwR+Wyn1lMOibQsR+TBwFKhXSt3qtDzbRUT6gaNKKU8WlInIA8APlFKfzc9oqVZKzTopUyVZBNcDZ5RS55RSK8CDwO0Oy7RllFLfB6adlmOnKKVGlFLP5h/PY8ym2HBGtRtRBgv5p+H8j6dWUiLSA/w88FmnZalERCQO/Cz52StKqRWnlQBUliLoBgaKng/isRtRuSAiu4FrgB87K8n2ybtVngPGgUeVUl77Gz4D/N9AzmlBSkAB3xKRZ0TkHqeF2SZ7gAng83n33GdFxPEh5JWkCHxcgIjUAv8A/F9KqTmn5dkuSqmsUuoIxozt60XEM246EbkVGFdKPeO0LCXyJqXUtcAtwAfzblOvEAKuBf5KKXUNsAg4Hq+sJEUwBPQWPe/Jb/Oxibxf/R+Av1VK/aPT8pRC3px/HLjZaVm2wY3AbXkf+4PATSLyN86KtH2UUkP53+PA1zDcvl5hEBgssiS/iqEYHKWSFMHTwAER2ZMP0NwBPOSwTBVDPtD6OeCEUurPnJZnJ4hIq4g05B/HMBIPXnFWqq2jlPqoUqpHKbUb4/x/TCn1Kw6LtS1EpCafbEDepfJOwDOZdEqpUWBARA7mN70NcDxhIuS0AHahlMqIyIeAR4AgcL9S6mWHxdoyIvIl4C1Ai4gMAh9XSn3OWam2xY3ArwIv5n3sAP9BKfWwgzJtl07ggXwGWgD4ilLKkymYHqYd+JqxriAE/J1S6n87K9K2+XfA3+YXpOeA9zssT+Wkj/r4+Pj4rE8luYZ8fHx8fNbBVwQ+Pj4+FY6vCHx8fHwqHF8R+Pj4+FQ4viLw8fHxqXB8ReDj4+NT4fiKwMfHx6fC+f8BNbkAItCRaPkAAAAASUVORK5CYII=\n",
                "text/plain": "<Figure size 432x288 with 1 Axes>"
              }
            ],
            "_view_module": "@jupyter-widgets/output",
            "_model_module_version": "1.0.0",
            "_view_count": null,
            "_view_module_version": "1.0.0",
            "layout": "IPY_MODEL_a7907d8187be47c0b12c49b98d30772b",
            "_model_module": "@jupyter-widgets/output"
          },
          "model_module_version": "1.0.0"
        },
        "19956037d65345f59f782b68b47ab0f9": {
          "model_module": "@jupyter-widgets/controls",
          "model_name": "SliderStyleModel",
          "state": {
            "_view_name": "StyleView",
            "handle_color": null,
            "_model_name": "SliderStyleModel",
            "description_width": "",
            "_view_module": "@jupyter-widgets/base",
            "_model_module_version": "1.5.0",
            "_view_count": null,
            "_view_module_version": "1.2.0",
            "_model_module": "@jupyter-widgets/controls"
          },
          "model_module_version": "1.5.0"
        },
        "31fe07c1709e41bfa505b772a939403e": {
          "model_module": "@jupyter-widgets/base",
          "model_name": "LayoutModel",
          "state": {
            "_view_name": "LayoutView",
            "grid_template_rows": null,
            "right": null,
            "justify_content": null,
            "_view_module": "@jupyter-widgets/base",
            "overflow": null,
            "_model_module_version": "1.2.0",
            "_view_count": null,
            "flex_flow": null,
            "width": null,
            "min_width": null,
            "border": null,
            "align_items": null,
            "bottom": null,
            "_model_module": "@jupyter-widgets/base",
            "top": null,
            "grid_column": null,
            "overflow_y": null,
            "overflow_x": null,
            "grid_auto_flow": null,
            "grid_area": null,
            "grid_template_columns": null,
            "flex": null,
            "_model_name": "LayoutModel",
            "justify_items": null,
            "grid_row": null,
            "max_height": null,
            "align_content": null,
            "visibility": null,
            "align_self": null,
            "height": null,
            "min_height": null,
            "padding": null,
            "grid_auto_rows": null,
            "grid_gap": null,
            "max_width": null,
            "order": null,
            "_view_module_version": "1.2.0",
            "grid_template_areas": null,
            "object_position": null,
            "object_fit": null,
            "grid_auto_columns": null,
            "margin": null,
            "display": null,
            "left": null
          },
          "model_module_version": "1.2.0"
        },
        "a7907d8187be47c0b12c49b98d30772b": {
          "model_module": "@jupyter-widgets/base",
          "model_name": "LayoutModel",
          "state": {
            "_view_name": "LayoutView",
            "grid_template_rows": null,
            "right": null,
            "justify_content": null,
            "_view_module": "@jupyter-widgets/base",
            "overflow": null,
            "_model_module_version": "1.2.0",
            "_view_count": null,
            "flex_flow": null,
            "width": null,
            "min_width": null,
            "border": null,
            "align_items": null,
            "bottom": null,
            "_model_module": "@jupyter-widgets/base",
            "top": null,
            "grid_column": null,
            "overflow_y": null,
            "overflow_x": null,
            "grid_auto_flow": null,
            "grid_area": null,
            "grid_template_columns": null,
            "flex": null,
            "_model_name": "LayoutModel",
            "justify_items": null,
            "grid_row": null,
            "max_height": null,
            "align_content": null,
            "visibility": null,
            "align_self": null,
            "height": null,
            "min_height": null,
            "padding": null,
            "grid_auto_rows": null,
            "grid_gap": null,
            "max_width": null,
            "order": null,
            "_view_module_version": "1.2.0",
            "grid_template_areas": null,
            "object_position": null,
            "object_fit": null,
            "grid_auto_columns": null,
            "margin": null,
            "display": null,
            "left": null
          },
          "model_module_version": "1.2.0"
        }
      }
    }
  },
  "cells": [
    {
      "cell_type": "markdown",
      "metadata": {
        "id": "view-in-github",
        "colab_type": "text"
      },
      "source": [
        "<a href=\"https://colab.research.google.com/github/pa-legg/notebooks/blob/main/sdav00.ipynb\" target=\"_parent\"><img src=\"https://colab.research.google.com/assets/colab-badge.svg\" alt=\"Open In Colab\"/></a>"
      ]
    },
    {
      "cell_type": "markdown",
      "metadata": {
        "id": "b2CWzVn0gR98"
      },
      "source": [
        "# Security Data Analytics and Visualisation\n",
        "\n",
        "Welcome to the SDAV online laboratory."
      ]
    },
    {
      "cell_type": "code",
      "metadata": {
        "id": "5wmq4P6KgRC8"
      },
      "source": [
        "import numpy as np\n",
        "import matplotlib.pyplot as plt"
      ],
      "execution_count": null,
      "outputs": []
    },
    {
      "cell_type": "markdown",
      "metadata": {
        "id": "mX5pRlxJgvAY"
      },
      "source": [
        "# Introduction"
      ]
    },
    {
      "cell_type": "code",
      "metadata": {
        "id": "5M8-2mCJgiyh",
        "outputId": "cbac9d61-f8ee-4a4a-efa4-861426cacdd3",
        "colab": {
          "base_uri": "https://localhost:8080/",
          "height": 102
        }
      },
      "source": [
        "a = np.random.random([5,5])\n",
        "a"
      ],
      "execution_count": null,
      "outputs": [
        {
          "output_type": "execute_result",
          "data": {
            "text/plain": [
              "array([[0.04009217, 0.41855562, 0.49626075, 0.64202086, 0.24433471],\n",
              "       [0.86006894, 0.1110743 , 0.75822329, 0.79734269, 0.47505435],\n",
              "       [0.04156899, 0.55766334, 0.11517337, 0.67220703, 0.61968201],\n",
              "       [0.57568144, 0.75641447, 0.75591215, 0.7648594 , 0.86580797],\n",
              "       [0.16079968, 0.86564789, 0.00552354, 0.6664002 , 0.56527475]])"
            ]
          },
          "metadata": {
            "tags": []
          },
          "execution_count": 3
        }
      ]
    },
    {
      "cell_type": "code",
      "metadata": {
        "id": "K4c7qQgCgksJ",
        "outputId": "756a6f70-61c5-4d11-8481-4b1ca64525bb",
        "colab": {
          "base_uri": "https://localhost:8080/",
          "height": 350
        }
      },
      "source": [
        "plt.plot(a)"
      ],
      "execution_count": null,
      "outputs": [
        {
          "output_type": "execute_result",
          "data": {
            "text/plain": [
              "[<matplotlib.lines.Line2D at 0x7fa90329af28>,\n",
              " <matplotlib.lines.Line2D at 0x7fa9032ac080>,\n",
              " <matplotlib.lines.Line2D at 0x7fa9032ac1d0>,\n",
              " <matplotlib.lines.Line2D at 0x7fa9032ac320>,\n",
              " <matplotlib.lines.Line2D at 0x7fa9032ac470>]"
            ]
          },
          "metadata": {
            "tags": []
          },
          "execution_count": 4
        },
        {
          "output_type": "display_data",
          "data": {
            "image/png": "[encoded data removed]",
            "text/plain": [
              "<Figure size 432x288 with 1 Axes>"
            ]
          },
          "metadata": {
            "tags": [],
            "needs_background": "light"
          }
        }
      ]
    },
    {
      "cell_type": "markdown",
      "metadata": {
        "id": "llwuruixgvc2"
      },
      "source": [
        "# Getting Started"
      ]
    },
    {
      "cell_type": "code",
      "metadata": {
        "id": "7Z31ORgXgoBM",
        "outputId": "86d2d6c2-16b4-425a-94a9-d5a4de6b9966",
        "colab": {
          "base_uri": "https://localhost:8080/",
          "height": 314,
          "referenced_widgets": [
            "dfdf15d8b34e4214817f95ccfc3d748c",
            "fe44efbeced4463781dffa53a43ab078",
            "c35e7cbe835b4e8ea371e37036289ad3",
            "ec457a22872647389896bac77440c57a",
            "19956037d65345f59f782b68b47ab0f9",
            "31fe07c1709e41bfa505b772a939403e",
            "a7907d8187be47c0b12c49b98d30772b"
          ]
        }
      },
      "source": [
        "from ipywidgets import interact, interactive, fixed, interact_manual\n",
        "import ipywidgets as widgets\n",
        "\n",
        "import matplotlib.pyplot as plt\n",
        "%matplotlib inline\n",
        "\n",
        "import numpy as np\n",
        "\n",
        "def plot_func(freq):\n",
        "    x = np.linspace(0, 2*np.pi)\n",
        "    y = np.sin(x * freq)\n",
        "    plt.plot(x, y)\n",
        "\n",
        "interact(plot_func, freq = widgets.FloatSlider(value=7.5,\n",
        "                                               min=1,\n",
        "                                               max=5.0,\n",
        "                                               step=0.5))"
      ],
      "execution_count": null,
      "outputs": [
        {
          "output_type": "display_data",
          "data": {
            "application/vnd.jupyter.widget-view+json": {
              "model_id": "dfdf15d8b34e4214817f95ccfc3d748c",
              "version_minor": 0,
              "version_major": 2
            },
            "text/plain": [
              "interactive(children=(FloatSlider(value=5.0, description='freq', max=5.0, min=1.0, step=0.5), Output()), _dom_…"
            ]
          },
          "metadata": {
            "tags": []
          }
        },
        {
          "output_type": "execute_result",
          "data": {
            "text/plain": [
              "<function __main__.plot_func>"
            ]
          },
          "metadata": {
            "tags": []
          },
          "execution_count": 5
        }
      ]
    },
    {
      "cell_type": "code",
      "metadata": {
        "id": "7bDPP4T-jXzU",
        "outputId": "cb09d4d4-f3bd-4349-87d4-370aa0b87927",
        "colab": {
          "base_uri": "https://localhost:8080/",
          "height": 700
        }
      },
      "source": [
        "import pandas as pd\n",
        "df = pd.read_csv(\"https://raw.githubusercontent.com/plotly/datasets/master/school_earnings.csv\")\n",
        "df"
      ],
      "execution_count": null,
      "outputs": [
        {
          "output_type": "execute_result",
          "data": {
            "text/html": [
              "<div>\n",
              "<style scoped>\n",
              "    .dataframe tbody tr th:only-of-type {\n",
              "        vertical-align: middle;\n",
              "    }\n",
              "\n",
              "    .dataframe tbody tr th {\n",
              "        vertical-align: top;\n",
              "    }\n",
              "\n",
              "    .dataframe thead th {\n",
              "        text-align: right;\n",
              "    }\n",
              "</style>\n",
              "<table border=\"1\" class=\"dataframe\">\n",
              "  <thead>\n",
              "    <tr style=\"text-align: right;\">\n",
              "      <th></th>\n",
              "      <th>School</th>\n",
              "      <th>Women</th>\n",
              "      <th>Men</th>\n",
              "      <th>Gap</th>\n",
              "    </tr>\n",
              "  </thead>\n",
              "  <tbody>\n",
              "    <tr>\n",
              "      <th>0</th>\n",
              "      <td>MIT</td>\n",
              "      <td>94</td>\n",
              "      <td>152</td>\n",
              "      <td>58</td>\n",
              "    </tr>\n",
              "    <tr>\n",
              "      <th>1</th>\n",
              "      <td>Stanford</td>\n",
              "      <td>96</td>\n",
              "      <td>151</td>\n",
              "      <td>55</td>\n",
              "    </tr>\n",
              "    <tr>\n",
              "      <th>2</th>\n",
              "      <td>Harvard</td>\n",
              "      <td>112</td>\n",
              "      <td>165</td>\n",
              "      <td>53</td>\n",
              "    </tr>\n",
              "    <tr>\n",
              "      <th>3</th>\n",
              "      <td>U.Penn</td>\n",
              "      <td>92</td>\n",
              "      <td>141</td>\n",
              "      <td>49</td>\n",
              "    </tr>\n",
              "    <tr>\n",
              "      <th>4</th>\n",
              "      <td>Princeton</td>\n",
              "      <td>90</td>\n",
              "      <td>137</td>\n",
              "      <td>47</td>\n",
              "    </tr>\n",
              "    <tr>\n",
              "      <th>5</th>\n",
              "      <td>Chicago</td>\n",
              "      <td>78</td>\n",
              "      <td>118</td>\n",
              "      <td>40</td>\n",
              "    </tr>\n",
              "    <tr>\n",
              "      <th>6</th>\n",
              "      <td>Georgetown</td>\n",
              "      <td>94</td>\n",
              "      <td>131</td>\n",
              "      <td>37</td>\n",
              "    </tr>\n",
              "    <tr>\n",
              "      <th>7</th>\n",
              "      <td>Tufts</td>\n",
              "      <td>76</td>\n",
              "      <td>112</td>\n",
              "      <td>36</td>\n",
              "    </tr>\n",
              "    <tr>\n",
              "      <th>8</th>\n",
              "      <td>Yale</td>\n",
              "      <td>79</td>\n",
              "      <td>114</td>\n",
              "      <td>35</td>\n",
              "    </tr>\n",
              "    <tr>\n",
              "      <th>9</th>\n",
              "      <td>Columbia</td>\n",
              "      <td>86</td>\n",
              "      <td>119</td>\n",
              "      <td>33</td>\n",
              "    </tr>\n",
              "    <tr>\n",
              "      <th>10</th>\n",
              "      <td>Duke</td>\n",
              "      <td>93</td>\n",
              "      <td>124</td>\n",
              "      <td>31</td>\n",
              "    </tr>\n",
              "    <tr>\n",
              "      <th>11</th>\n",
              "      <td>Dartmouth</td>\n",
              "      <td>84</td>\n",
              "      <td>114</td>\n",
              "      <td>30</td>\n",
              "    </tr>\n",
              "    <tr>\n",
              "      <th>12</th>\n",
              "      <td>NYU</td>\n",
              "      <td>67</td>\n",
              "      <td>94</td>\n",
              "      <td>27</td>\n",
              "    </tr>\n",
              "    <tr>\n",
              "      <th>13</th>\n",
              "      <td>Notre Dame</td>\n",
              "      <td>73</td>\n",
              "      <td>100</td>\n",
              "      <td>27</td>\n",
              "    </tr>\n",
              "    <tr>\n",
              "      <th>14</th>\n",
              "      <td>Cornell</td>\n",
              "      <td>80</td>\n",
              "      <td>107</td>\n",
              "      <td>27</td>\n",
              "    </tr>\n",
              "    <tr>\n",
              "      <th>15</th>\n",
              "      <td>Michigan</td>\n",
              "      <td>62</td>\n",
              "      <td>84</td>\n",
              "      <td>22</td>\n",
              "    </tr>\n",
              "    <tr>\n",
              "      <th>16</th>\n",
              "      <td>Brown</td>\n",
              "      <td>72</td>\n",
              "      <td>92</td>\n",
              "      <td>20</td>\n",
              "    </tr>\n",
              "    <tr>\n",
              "      <th>17</th>\n",
              "      <td>Berkeley</td>\n",
              "      <td>71</td>\n",
              "      <td>88</td>\n",
              "      <td>17</td>\n",
              "    </tr>\n",
              "    <tr>\n",
              "      <th>18</th>\n",
              "      <td>Emory</td>\n",
              "      <td>68</td>\n",
              "      <td>82</td>\n",
              "      <td>14</td>\n",
              "    </tr>\n",
              "    <tr>\n",
              "      <th>19</th>\n",
              "      <td>UCLA</td>\n",
              "      <td>64</td>\n",
              "      <td>78</td>\n",
              "      <td>14</td>\n",
              "    </tr>\n",
              "    <tr>\n",
              "      <th>20</th>\n",
              "      <td>SoCal</td>\n",
              "      <td>72</td>\n",
              "      <td>81</td>\n",
              "      <td>9</td>\n",
              "    </tr>\n",
              "  </tbody>\n",
              "</table>\n",
              "</div>"
            ],
            "text/plain": [
              "        School  Women  Men  Gap\n",
              "0          MIT     94  152   58\n",
              "1     Stanford     96  151   55\n",
              "2      Harvard    112  165   53\n",
              "3       U.Penn     92  141   49\n",
              "4    Princeton     90  137   47\n",
              "5      Chicago     78  118   40\n",
              "6   Georgetown     94  131   37\n",
              "7        Tufts     76  112   36\n",
              "8         Yale     79  114   35\n",
              "9     Columbia     86  119   33\n",
              "10        Duke     93  124   31\n",
              "11   Dartmouth     84  114   30\n",
              "12         NYU     67   94   27\n",
              "13  Notre Dame     73  100   27\n",
              "14     Cornell     80  107   27\n",
              "15    Michigan     62   84   22\n",
              "16       Brown     72   92   20\n",
              "17    Berkeley     71   88   17\n",
              "18       Emory     68   82   14\n",
              "19        UCLA     64   78   14\n",
              "20       SoCal     72   81    9"
            ]
          },
          "metadata": {
            "tags": []
          },
          "execution_count": 11
        }
      ]
    },
    {
      "cell_type": "code",
      "metadata": {
        "id": "oENTdQS2joLA"
      },
      "source": [],
      "execution_count": null,
      "outputs": []
    }
  ]
}