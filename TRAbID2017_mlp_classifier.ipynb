{
 "cells": [
  {
   "cell_type": "markdown",
   "id": "7d63c5dc-840d-4a5f-9b61-0454547af55e",
   "metadata": {},
   "source": [
    "# Exploration of the TRAbID2017 dataset\n",
    "\n",
    "In the following notebook, we illustrate training a multilayer perceptron (MLP) to classify benign and malicious observations from the TRAbID017 IDS dataset.\n",
    "\n",
    "For training, 14651 samples are used.\n",
    "\n",
    "For testing, 3663 samples are used, and a 99.78% accuracy is achieved."
   ]
  },
  {
   "cell_type": "code",
   "execution_count": 13,
   "id": "4ceb986a-c1f1-4fe4-9924-d7f05bb56845",
   "metadata": {},
   "outputs": [],
   "source": [
    "import pandas as pd\n",
    "import numpy as np\n",
    "from scipy.io import arff\n",
    "\n",
    "from sklearn.metrics import roc_curve, auc, confusion_matrix, classification_report, accuracy_score, precision_score, recall_score, f1_score\n",
    "from sklearn.model_selection import StratifiedKFold\n",
    "from sklearn.preprocessing import MinMaxScaler\n",
    "from sklearn.model_selection import train_test_split\n",
    "\n",
    "data = arff.loadarff('./data/TRAbID2017_dataset.arff')\n",
    "dataset = pd.DataFrame(data[0])\n",
    "\n",
    "# Creating X and Y from the dataset\n",
    "X = dataset.iloc[:,0:43].values\n",
    "Y_class = pd.read_csv('./data/TRAbID2017_dataset_Y_class.csv')\n",
    "Y_class = Y_class.iloc[:,:].values\n",
    "\n",
    "# Performing scale data\n",
    "scaler = MinMaxScaler().fit(X)\n",
    "X_scaled = np.array(scaler.transform(X))\n",
    "\n",
    "X_train, X_test, y_train, y_test = train_test_split(X_scaled, Y_class, test_size = 0.2, random_state = 42, stratify=Y_class)"
   ]
  },
  {
   "cell_type": "code",
   "execution_count": 49,
   "id": "de427865-228c-44af-8da7-6d59cbaea35a",
   "metadata": {},
   "outputs": [
    {
     "name": "stdout",
     "output_type": "stream",
     "text": [
      "Training Stats:\n",
      " Total samples:  14651\n"
     ]
    }
   ],
   "source": [
    "from sklearn.neural_network import MLPClassifier\n",
    "clf = MLPClassifier(random_state=1, max_iter=300).fit(X_train, np.ravel(y_train))\n",
    "print(\"Training Stats:\")\n",
    "print(\" Total samples: \", X_train.shape[0])"
   ]
  },
  {
   "cell_type": "code",
   "execution_count": 50,
   "id": "9080fe54-ce6a-4521-ac17-82b110e7ab90",
   "metadata": {},
   "outputs": [
    {
     "name": "stdout",
     "output_type": "stream",
     "text": [
      "Prediction accuracy:\n",
      " Correct:  3655\n",
      " Total:  3663\n",
      " Accuracy:  99.78159978159978\n"
     ]
    }
   ],
   "source": [
    "y_test = np.ravel(y_test)\n",
    "predict = clf.predict_proba(X_test)\n",
    "score = 0\n",
    "\n",
    "for i in range(predict.shape[0]):\n",
    "    if np.argmax(predict[i]) == y_test[i]:\n",
    "        score = score + 1\n",
    "\n",
    "print(\"Prediction accuracy:\")\n",
    "print(\" Correct: \", score)\n",
    "print(\" Total: \", predict.shape[0])\n",
    "print(\" Accuracy: \", score/predict.shape[0]*100)"
   ]
  },
  {
   "cell_type": "code",
   "execution_count": null,
   "id": "ea18a9cf-ac0b-4316-8a6d-9c61554b0bdf",
   "metadata": {},
   "outputs": [],
   "source": []
  }
 ],
 "metadata": {
  "kernelspec": {
   "display_name": "Python 3 (ipykernel)",
   "language": "python",
   "name": "python3"
  },
  "language_info": {
   "codemirror_mode": {
    "name": "ipython",
    "version": 3
   },
   "file_extension": ".py",
   "mimetype": "text/x-python",
   "name": "python",
   "nbconvert_exporter": "python",
   "pygments_lexer": "ipython3",
   "version": "3.9.7"
  }
 },
 "nbformat": 4,
 "nbformat_minor": 5
}
